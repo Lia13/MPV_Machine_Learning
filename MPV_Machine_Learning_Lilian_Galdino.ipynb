{
  "cells": [
    {
      "cell_type": "markdown",
      "metadata": {
        "id": "view-in-github",
        "colab_type": "text"
      },
      "source": [
        "<a href=\"https://colab.research.google.com/github/Lia13/MPV_Machine_Learning/blob/main/MPV_Machine_Learning_Lilian_Galdino.ipynb\" target=\"_parent\"><img src=\"https://colab.research.google.com/assets/colab-badge.svg\" alt=\"Open In Colab\"/></a>"
      ]
    },
    {
      "cell_type": "markdown",
      "metadata": {
        "id": "xjOpLDcTBbbM"
      },
      "source": [
        "## MPV Sprint Machine Learning - Lilian Galdino\n",
        "# Predict students dropout and academic success\n",
        "###Treinar modelos de machine learning para um problema de classificação\n"
      ]
    },
    {
      "cell_type": "markdown",
      "metadata": {
        "id": "Qi_-En58ctTx"
      },
      "source": [
        "## Descrição do Problema"
      ]
    },
    {
      "cell_type": "markdown",
      "metadata": {
        "id": "fVTjcaTGVb-3"
      },
      "source": [
        "O problema está relacionado à previsão do risco de desistência (dropout) de alunos em um ambiente educacional. O objetivo é utilizar um modelo de aprendizado de máquina para prever se um aluno irá abandonar o curso, permanecer matriculado (enrolled), ou concluir o curso (graduate). A previsão é baseada em um conjunto de características dos alunos e dados contextuais, como a qualificação dos pais, o nível de escolaridade, as unidades curriculares cursadas, e indicadores econômicos como inflação e taxa de desemprego.\n",
        "Premissas ou Hipóteses sobre o Problema:\n",
        "\n",
        "   * Hipótese de Risco de Desistência: Alguns fatores, como a qualificação dos pais e a quantidade de unidades curriculares cursadas, podem impactar o risco de desistência dos alunos.\n",
        "   * Hipótese Econômica: Variáveis econômicas, como a taxa de desemprego e inflação, podem ter influência sobre a decisão do aluno de continuar ou abandonar o curso.\n",
        "   * Hipótese Demográfica: Fatores como a nacionalidade e o estado civil dos alunos podem estar relacionados com a taxa de desistência ou conclusão.\n",
        "   * Hipótese do Modelo: A combinação de múltiplos modelos (como Random Forest, XGBoost, e SVM) pode melhorar a performance preditiva, quando comparado ao uso de modelos individuais.\n",
        "\n",
        "Restrições ou Condições Impostas para Selecionar os Dados:\n",
        "\n",
        "   * Seleção de Dados Relevantes: A análise foi realizada utilizando dados disponíveis no dataset, incluindo atributos como o curso, a qualificação dos pais, a ocupação dos pais, o número de unidades curriculares cursadas, entre outros.\n",
        "   * Limitação de Atributos: Apenas atributos que estavam diretamente relacionados à desistência, permanência e conclusão do curso foram selecionados para treinar os modelos.\n",
        "   * Eliminação de Dados Incompletos: O dataset foi tratado para remover ou imputar valores ausentes, o que pode afetar a qualidade do treinamento e a avaliação dos modelos.\n",
        "   * Equilíbrio de Classes: A variável dependente foi tratada com pesos de classe ajustados, dado o possível desbalanceamento entre as classes (por exemplo, mais alunos que completam o curso do que os que desistem).\n",
        "\n",
        "Descrição do Dataset:\n",
        "\n",
        "O dataset contém informações detalhadas sobre os alunos, incluindo dados demográficos, acadêmicos e econômicos. Aqui estão os principais atributos do dataset:\n",
        "\n",
        "  * Marital status: Estado civil do aluno.\n",
        "  *  Application mode: Modo de aplicação do aluno para o curso.\n",
        "  *  Application order: Ordem de aplicação do aluno.\n",
        "  *  Course: O curso em que o aluno se matriculou.\n",
        "  *   Daytime/evening attendance: Tipo de frequência (diurno ou noturno).\n",
        "  *  Previous qualification: Qualificação anterior do aluno.\n",
        "  *   Nacionality: Nacionalidade do aluno.\n",
        "  *   Mother's qualification: Qualificação da mãe do aluno.\n",
        "  *   Father's qualification: Qualificação do pai do aluno.\n",
        "  *   Mother's occupation: Ocupação da mãe do aluno.\n",
        "  *  Father's occupation: Ocupação do pai do aluno.\n",
        "  *  Displaced: Indica se o aluno é deslocado (de outras regiões ou áreas).\n",
        "  *   Educational special needs: Se o aluno possui necessidades educacionais especiais.\n",
        "  *  Debtor: Indica se o aluno é devedor (pode estar relacionado ao pagamento de mensalidades).\n",
        "  *   Tuition fees up to date: Indica se as taxas de matrícula estão em dia.\n",
        "  *   Gender: Gênero do aluno.\n",
        "  *   Scholarship holder: Se o aluno é beneficiário de bolsa de estudos.\n",
        "  *   Age at enrollment: Idade do aluno no momento da matrícula.\n",
        "  *   International: Se o aluno é internacional.\n",
        "  *   Curricular units 1st sem (credited): Unidades curriculares do primeiro semestre creditadas.\n",
        "  *  Curricular units 1st sem (enrolled): Unidades curriculares do primeiro semestre matriculadas.\n",
        "  * Curricular units 1st sem (evaluations): Unidades curriculares do primeiro semestre avaliadas.\n",
        "  * Curricular units 1st sem (approved): Unidades curriculares do primeiro semestre aprovadas.\n",
        "  * Curricular units 1st sem (grade): Nota das unidades curriculares do primeiro semestre.\n",
        "  * Curricular units 1st sem (without evaluations): Unidades curriculares do primeiro semestre sem avaliações.\n",
        "  * Curricular units 2nd sem (credited): Unidades curriculares do segundo semestre creditadas.\n",
        "  * Curricular units 2nd sem (enrolled): Unidades curriculares do segundo semestre matriculadas.\n",
        "  * Curricular units 2nd sem (evaluations): Unidades curriculares do segundo semestre avaliadas.\n",
        "  * Curricular units 2nd sem (approved): Unidades curriculares do segundo semestre aprovadas.\n",
        "  * Curricular units 2nd sem (grade): Nota das unidades curriculares do segundo semestre.\n",
        "  * Curricular units 2nd sem (without evaluations): Unidades curriculares do segundo semestre sem avaliações.\n",
        "  * Unemployment rate: Taxa de desemprego no contexto econômico do aluno.\n",
        "  * Inflation rate: Taxa de inflação no contexto econômico do aluno.\n",
        "  * GDP: Produto Interno Bruto do país ou região do aluno.\n",
        "  * Target: A variável dependente, que pode ser Dropout, Enrolled, ou Graduate, representando o estado do aluno (desistiu, está matriculado ou concluiu o curso)."
      ]
    },
    {
      "cell_type": "markdown",
      "metadata": {
        "id": "9HlRBBdBcTdd"
      },
      "source": [
        "##Preparação de Dados"
      ]
    },
    {
      "cell_type": "code",
      "execution_count": 1,
      "metadata": {
        "colab": {
          "base_uri": "https://localhost:8080/"
        },
        "id": "JlK0XGrVSTQA",
        "outputId": "6af9291b-c2c3-4a18-ea4f-8bcb5fd160b0"
      },
      "outputs": [
        {
          "output_type": "stream",
          "name": "stdout",
          "text": [
            "Collecting catboost\n",
            "  Downloading catboost-1.2.7-cp310-cp310-manylinux2014_x86_64.whl.metadata (1.2 kB)\n",
            "Requirement already satisfied: graphviz in /usr/local/lib/python3.10/dist-packages (from catboost) (0.20.3)\n",
            "Requirement already satisfied: matplotlib in /usr/local/lib/python3.10/dist-packages (from catboost) (3.8.0)\n",
            "Requirement already satisfied: numpy<2.0,>=1.16.0 in /usr/local/lib/python3.10/dist-packages (from catboost) (1.26.4)\n",
            "Requirement already satisfied: pandas>=0.24 in /usr/local/lib/python3.10/dist-packages (from catboost) (2.2.2)\n",
            "Requirement already satisfied: scipy in /usr/local/lib/python3.10/dist-packages (from catboost) (1.13.1)\n",
            "Requirement already satisfied: plotly in /usr/local/lib/python3.10/dist-packages (from catboost) (5.24.1)\n",
            "Requirement already satisfied: six in /usr/local/lib/python3.10/dist-packages (from catboost) (1.17.0)\n",
            "Requirement already satisfied: python-dateutil>=2.8.2 in /usr/local/lib/python3.10/dist-packages (from pandas>=0.24->catboost) (2.8.2)\n",
            "Requirement already satisfied: pytz>=2020.1 in /usr/local/lib/python3.10/dist-packages (from pandas>=0.24->catboost) (2024.2)\n",
            "Requirement already satisfied: tzdata>=2022.7 in /usr/local/lib/python3.10/dist-packages (from pandas>=0.24->catboost) (2024.2)\n",
            "Requirement already satisfied: contourpy>=1.0.1 in /usr/local/lib/python3.10/dist-packages (from matplotlib->catboost) (1.3.1)\n",
            "Requirement already satisfied: cycler>=0.10 in /usr/local/lib/python3.10/dist-packages (from matplotlib->catboost) (0.12.1)\n",
            "Requirement already satisfied: fonttools>=4.22.0 in /usr/local/lib/python3.10/dist-packages (from matplotlib->catboost) (4.55.3)\n",
            "Requirement already satisfied: kiwisolver>=1.0.1 in /usr/local/lib/python3.10/dist-packages (from matplotlib->catboost) (1.4.7)\n",
            "Requirement already satisfied: packaging>=20.0 in /usr/local/lib/python3.10/dist-packages (from matplotlib->catboost) (24.2)\n",
            "Requirement already satisfied: pillow>=6.2.0 in /usr/local/lib/python3.10/dist-packages (from matplotlib->catboost) (11.0.0)\n",
            "Requirement already satisfied: pyparsing>=2.3.1 in /usr/local/lib/python3.10/dist-packages (from matplotlib->catboost) (3.2.0)\n",
            "Requirement already satisfied: tenacity>=6.2.0 in /usr/local/lib/python3.10/dist-packages (from plotly->catboost) (9.0.0)\n",
            "Downloading catboost-1.2.7-cp310-cp310-manylinux2014_x86_64.whl (98.7 MB)\n",
            "\u001b[2K   \u001b[90m━━━━━━━━━━━━━━━━━━━━━━━━━━━━━━━━━━━━━━━━\u001b[0m \u001b[32m98.7/98.7 MB\u001b[0m \u001b[31m6.0 MB/s\u001b[0m eta \u001b[36m0:00:00\u001b[0m\n",
            "\u001b[?25hInstalling collected packages: catboost\n",
            "Successfully installed catboost-1.2.7\n"
          ]
        }
      ],
      "source": [
        "import gdown\n",
        "import pandas as pd\n",
        "import matplotlib.pyplot as plt\n",
        "import seaborn as sns\n",
        "from sklearn.preprocessing import LabelEncoder\n",
        "from sklearn.model_selection import cross_val_score\n",
        "from sklearn.preprocessing import StandardScaler, OneHotEncoder\n",
        "import pickle\n",
        "import numpy as np\n",
        "from sklearn.compose import ColumnTransformer\n",
        "from sklearn.pipeline import Pipeline\n",
        "from sklearn.impute import SimpleImputer\n",
        "from sklearn.svm import SVC\n",
        "from xgboost import XGBClassifier\n",
        "from sklearn.ensemble import RandomForestClassifier, VotingClassifier, StackingClassifier\n",
        "from sklearn.linear_model import LogisticRegression\n",
        "from sklearn.metrics import accuracy_score, classification_report, confusion_matrix, roc_auc_score, f1_score\n",
        "from sklearn.model_selection import train_test_split\n",
        "import shap\n",
        "!pip install catboost\n",
        "from catboost import CatBoostClassifier"
      ]
    },
    {
      "cell_type": "markdown",
      "source": [
        "O método escolhido para trazer o dataset envolve o uso da biblioteca gdown, que é uma ferramenta simples e eficaz para baixar arquivos do Google Drive diretamente em ambientes de código, como o Python."
      ],
      "metadata": {
        "id": "NK08AVZJ7aTq"
      }
    },
    {
      "cell_type": "code",
      "execution_count": 2,
      "metadata": {
        "colab": {
          "base_uri": "https://localhost:8080/"
        },
        "id": "VGEdZHUpYFpO",
        "outputId": "1bbc19ee-e18d-4638-8c30-e281d9a9bb92"
      },
      "outputs": [
        {
          "output_type": "stream",
          "name": "stderr",
          "text": [
            "Downloading...\n",
            "From: https://drive.google.com/uc?export=download&id=1MVfVpovRnnHiOjsFNwg5Lnl-FG2QYftI\n",
            "To: /content/arquivo.csv\n",
            "100%|██████████| 471k/471k [00:00<00:00, 28.3MB/s]"
          ]
        },
        {
          "output_type": "stream",
          "name": "stdout",
          "text": [
            "   Marital status  Application mode  Application order  Course  \\\n",
            "0               1                 8                  5       2   \n",
            "1               1                 6                  1      11   \n",
            "2               1                 1                  5       5   \n",
            "3               1                 8                  2      15   \n",
            "4               2                12                  1       3   \n",
            "\n",
            "   Daytime/evening attendance  Previous qualification  Nacionality  \\\n",
            "0                           1                       1            1   \n",
            "1                           1                       1            1   \n",
            "2                           1                       1            1   \n",
            "3                           1                       1            1   \n",
            "4                           0                       1            1   \n",
            "\n",
            "   Mother's qualification  Father's qualification  Mother's occupation  ...  \\\n",
            "0                      13                      10                    6  ...   \n",
            "1                       1                       3                    4  ...   \n",
            "2                      22                      27                   10  ...   \n",
            "3                      23                      27                    6  ...   \n",
            "4                      22                      28                   10  ...   \n",
            "\n",
            "   Curricular units 2nd sem (credited)  Curricular units 2nd sem (enrolled)  \\\n",
            "0                                    0                                    0   \n",
            "1                                    0                                    6   \n",
            "2                                    0                                    6   \n",
            "3                                    0                                    6   \n",
            "4                                    0                                    6   \n",
            "\n",
            "   Curricular units 2nd sem (evaluations)  \\\n",
            "0                                       0   \n",
            "1                                       6   \n",
            "2                                       0   \n",
            "3                                      10   \n",
            "4                                       6   \n",
            "\n",
            "   Curricular units 2nd sem (approved)  Curricular units 2nd sem (grade)  \\\n",
            "0                                    0                          0.000000   \n",
            "1                                    6                         13.666667   \n",
            "2                                    0                          0.000000   \n",
            "3                                    5                         12.400000   \n",
            "4                                    6                         13.000000   \n",
            "\n",
            "   Curricular units 2nd sem (without evaluations)  Unemployment rate  \\\n",
            "0                                               0               10.8   \n",
            "1                                               0               13.9   \n",
            "2                                               0               10.8   \n",
            "3                                               0                9.4   \n",
            "4                                               0               13.9   \n",
            "\n",
            "   Inflation rate   GDP    Target  \n",
            "0             1.4  1.74   Dropout  \n",
            "1            -0.3  0.79  Graduate  \n",
            "2             1.4  1.74   Dropout  \n",
            "3            -0.8 -3.12  Graduate  \n",
            "4            -0.3  0.79  Graduate  \n",
            "\n",
            "[5 rows x 35 columns]\n"
          ]
        },
        {
          "output_type": "stream",
          "name": "stderr",
          "text": [
            "\n"
          ]
        }
      ],
      "source": [
        "# URL do arquivo CSV no Kaggle 'https://www.kaggle.com/datasets/thedevastator/higher-education-predictors-of-student-retention/download\n",
        "\n",
        "# ID do arquivo no Google Drive\n",
        "file_id = '1MVfVpovRnnHiOjsFNwg5Lnl-FG2QYftI'  # Definindo o ID do arquivo no Google Drive\n",
        "\n",
        "# URL para download\n",
        "url = f'https://drive.google.com/uc?export=download&id={file_id}'\n",
        "\n",
        "# Baixar o arquivo\n",
        "output = 'arquivo.csv'  # Nome do arquivo para salvar após o download\n",
        "gdown.download(url, output, quiet=False)  # Usando gdown para baixar o arquivo e salvá-lo\n",
        "\n",
        "# Ler o arquivo CSV usando pandas\n",
        "df = pd.read_csv(output)\n",
        "\n",
        "# Mostrar as primeiras linhas do dataframe\n",
        "print(df.head())"
      ]
    },
    {
      "cell_type": "code",
      "execution_count": 3,
      "metadata": {
        "colab": {
          "base_uri": "https://localhost:8080/"
        },
        "id": "8BY4b5GAEUkq",
        "outputId": "283b8d0e-89b0-4b4e-8ff6-968791e81003"
      },
      "outputs": [
        {
          "output_type": "stream",
          "name": "stdout",
          "text": [
            "Dimensões do dataset: (4424, 35)\n",
            "\n",
            "Tipos de dados:\n",
            "Marital status                                      int64\n",
            "Application mode                                    int64\n",
            "Application order                                   int64\n",
            "Course                                              int64\n",
            "Daytime/evening attendance                          int64\n",
            "Previous qualification                              int64\n",
            "Nacionality                                         int64\n",
            "Mother's qualification                              int64\n",
            "Father's qualification                              int64\n",
            "Mother's occupation                                 int64\n",
            "Father's occupation                                 int64\n",
            "Displaced                                           int64\n",
            "Educational special needs                           int64\n",
            "Debtor                                              int64\n",
            "Tuition fees up to date                             int64\n",
            "Gender                                              int64\n",
            "Scholarship holder                                  int64\n",
            "Age at enrollment                                   int64\n",
            "International                                       int64\n",
            "Curricular units 1st sem (credited)                 int64\n",
            "Curricular units 1st sem (enrolled)                 int64\n",
            "Curricular units 1st sem (evaluations)              int64\n",
            "Curricular units 1st sem (approved)                 int64\n",
            "Curricular units 1st sem (grade)                  float64\n",
            "Curricular units 1st sem (without evaluations)      int64\n",
            "Curricular units 2nd sem (credited)                 int64\n",
            "Curricular units 2nd sem (enrolled)                 int64\n",
            "Curricular units 2nd sem (evaluations)              int64\n",
            "Curricular units 2nd sem (approved)                 int64\n",
            "Curricular units 2nd sem (grade)                  float64\n",
            "Curricular units 2nd sem (without evaluations)      int64\n",
            "Unemployment rate                                 float64\n",
            "Inflation rate                                    float64\n",
            "GDP                                               float64\n",
            "Target                                             object\n",
            "dtype: object\n",
            "\n",
            "Valores ausentes por coluna:\n",
            "Marital status                                    0\n",
            "Application mode                                  0\n",
            "Application order                                 0\n",
            "Course                                            0\n",
            "Daytime/evening attendance                        0\n",
            "Previous qualification                            0\n",
            "Nacionality                                       0\n",
            "Mother's qualification                            0\n",
            "Father's qualification                            0\n",
            "Mother's occupation                               0\n",
            "Father's occupation                               0\n",
            "Displaced                                         0\n",
            "Educational special needs                         0\n",
            "Debtor                                            0\n",
            "Tuition fees up to date                           0\n",
            "Gender                                            0\n",
            "Scholarship holder                                0\n",
            "Age at enrollment                                 0\n",
            "International                                     0\n",
            "Curricular units 1st sem (credited)               0\n",
            "Curricular units 1st sem (enrolled)               0\n",
            "Curricular units 1st sem (evaluations)            0\n",
            "Curricular units 1st sem (approved)               0\n",
            "Curricular units 1st sem (grade)                  0\n",
            "Curricular units 1st sem (without evaluations)    0\n",
            "Curricular units 2nd sem (credited)               0\n",
            "Curricular units 2nd sem (enrolled)               0\n",
            "Curricular units 2nd sem (evaluations)            0\n",
            "Curricular units 2nd sem (approved)               0\n",
            "Curricular units 2nd sem (grade)                  0\n",
            "Curricular units 2nd sem (without evaluations)    0\n",
            "Unemployment rate                                 0\n",
            "Inflation rate                                    0\n",
            "GDP                                               0\n",
            "Target                                            0\n",
            "dtype: int64\n",
            "\n",
            "Distribuição da coluna alvo:\n",
            "Target\n",
            "Graduate    0.499322\n",
            "Dropout     0.321203\n",
            "Enrolled    0.179476\n",
            "Name: proportion, dtype: float64\n",
            "\n",
            "Estatísticas descritivas:\n",
            "       Marital status  Application mode  Application order       Course  \\\n",
            "count     4424.000000       4424.000000        4424.000000  4424.000000   \n",
            "mean         1.178571          6.886980           1.727848     9.899186   \n",
            "std          0.605747          5.298964           1.313793     4.331792   \n",
            "min          1.000000          1.000000           0.000000     1.000000   \n",
            "25%          1.000000          1.000000           1.000000     6.000000   \n",
            "50%          1.000000          8.000000           1.000000    10.000000   \n",
            "75%          1.000000         12.000000           2.000000    13.000000   \n",
            "max          6.000000         18.000000           9.000000    17.000000   \n",
            "\n",
            "       Daytime/evening attendance  Previous qualification  Nacionality  \\\n",
            "count                 4424.000000             4424.000000  4424.000000   \n",
            "mean                     0.890823                2.531420     1.254521   \n",
            "std                      0.311897                3.963707     1.748447   \n",
            "min                      0.000000                1.000000     1.000000   \n",
            "25%                      1.000000                1.000000     1.000000   \n",
            "50%                      1.000000                1.000000     1.000000   \n",
            "75%                      1.000000                1.000000     1.000000   \n",
            "max                      1.000000               17.000000    21.000000   \n",
            "\n",
            "       Mother's qualification  Father's qualification  Mother's occupation  \\\n",
            "count             4424.000000             4424.000000          4424.000000   \n",
            "mean                12.322107               16.455244             7.317812   \n",
            "std                  9.026251               11.044800             3.997828   \n",
            "min                  1.000000                1.000000             1.000000   \n",
            "25%                  2.000000                3.000000             5.000000   \n",
            "50%                 13.000000               14.000000             6.000000   \n",
            "75%                 22.000000               27.000000            10.000000   \n",
            "max                 29.000000               34.000000            32.000000   \n",
            "\n",
            "       ...  Curricular units 1st sem (without evaluations)  \\\n",
            "count  ...                                     4424.000000   \n",
            "mean   ...                                        0.137658   \n",
            "std    ...                                        0.690880   \n",
            "min    ...                                        0.000000   \n",
            "25%    ...                                        0.000000   \n",
            "50%    ...                                        0.000000   \n",
            "75%    ...                                        0.000000   \n",
            "max    ...                                       12.000000   \n",
            "\n",
            "       Curricular units 2nd sem (credited)  \\\n",
            "count                          4424.000000   \n",
            "mean                              0.541817   \n",
            "std                               1.918546   \n",
            "min                               0.000000   \n",
            "25%                               0.000000   \n",
            "50%                               0.000000   \n",
            "75%                               0.000000   \n",
            "max                              19.000000   \n",
            "\n",
            "       Curricular units 2nd sem (enrolled)  \\\n",
            "count                          4424.000000   \n",
            "mean                              6.232143   \n",
            "std                               2.195951   \n",
            "min                               0.000000   \n",
            "25%                               5.000000   \n",
            "50%                               6.000000   \n",
            "75%                               7.000000   \n",
            "max                              23.000000   \n",
            "\n",
            "       Curricular units 2nd sem (evaluations)  \\\n",
            "count                             4424.000000   \n",
            "mean                                 8.063291   \n",
            "std                                  3.947951   \n",
            "min                                  0.000000   \n",
            "25%                                  6.000000   \n",
            "50%                                  8.000000   \n",
            "75%                                 10.000000   \n",
            "max                                 33.000000   \n",
            "\n",
            "       Curricular units 2nd sem (approved)  Curricular units 2nd sem (grade)  \\\n",
            "count                          4424.000000                       4424.000000   \n",
            "mean                              4.435805                         10.230206   \n",
            "std                               3.014764                          5.210808   \n",
            "min                               0.000000                          0.000000   \n",
            "25%                               2.000000                         10.750000   \n",
            "50%                               5.000000                         12.200000   \n",
            "75%                               6.000000                         13.333333   \n",
            "max                              20.000000                         18.571429   \n",
            "\n",
            "       Curricular units 2nd sem (without evaluations)  Unemployment rate  \\\n",
            "count                                     4424.000000        4424.000000   \n",
            "mean                                         0.150316          11.566139   \n",
            "std                                          0.753774           2.663850   \n",
            "min                                          0.000000           7.600000   \n",
            "25%                                          0.000000           9.400000   \n",
            "50%                                          0.000000          11.100000   \n",
            "75%                                          0.000000          13.900000   \n",
            "max                                         12.000000          16.200000   \n",
            "\n",
            "       Inflation rate          GDP  \n",
            "count     4424.000000  4424.000000  \n",
            "mean         1.228029     0.001969  \n",
            "std          1.382711     2.269935  \n",
            "min         -0.800000    -4.060000  \n",
            "25%          0.300000    -1.700000  \n",
            "50%          1.400000     0.320000  \n",
            "75%          2.600000     1.790000  \n",
            "max          3.700000     3.510000  \n",
            "\n",
            "[8 rows x 34 columns]\n",
            "                                                Marital status  \\\n",
            "Marital status                                        1.000000   \n",
            "Application mode                                      0.224855   \n",
            "Application order                                    -0.125854   \n",
            "Course                                                0.018925   \n",
            "Daytime/evening attendance                           -0.274939   \n",
            "Previous qualification                                0.120925   \n",
            "Nacionality                                          -0.020722   \n",
            "Mother's qualification                                0.185522   \n",
            "Father's qualification                                0.128326   \n",
            "Mother's occupation                                   0.069734   \n",
            "Father's occupation                                   0.024351   \n",
            "Displaced                                            -0.234886   \n",
            "Educational special needs                            -0.028343   \n",
            "Debtor                                                0.034304   \n",
            "Tuition fees up to date                              -0.087158   \n",
            "Gender                                               -0.014738   \n",
            "Scholarship holder                                   -0.053765   \n",
            "Age at enrollment                                     0.522717   \n",
            "International                                        -0.027905   \n",
            "Curricular units 1st sem (credited)                   0.061209   \n",
            "Curricular units 1st sem (enrolled)                   0.052107   \n",
            "Curricular units 1st sem (evaluations)                0.058030   \n",
            "Curricular units 1st sem (approved)                  -0.031027   \n",
            "Curricular units 1st sem (grade)                     -0.059811   \n",
            "Curricular units 1st sem (without evaluations)        0.034711   \n",
            "Curricular units 2nd sem (credited)                   0.062831   \n",
            "Curricular units 2nd sem (enrolled)                   0.039026   \n",
            "Curricular units 2nd sem (evaluations)                0.022784   \n",
            "Curricular units 2nd sem (approved)                  -0.043739   \n",
            "Curricular units 2nd sem (grade)                     -0.071506   \n",
            "Curricular units 2nd sem (without evaluations)        0.020426   \n",
            "Unemployment rate                                    -0.020338   \n",
            "Inflation rate                                        0.008761   \n",
            "GDP                                                  -0.027003   \n",
            "\n",
            "                                                Application mode  \\\n",
            "Marital status                                          0.224855   \n",
            "Application mode                                        1.000000   \n",
            "Application order                                      -0.246497   \n",
            "Course                                                 -0.085116   \n",
            "Daytime/evening attendance                             -0.268616   \n",
            "Previous qualification                                  0.433028   \n",
            "Nacionality                                            -0.001360   \n",
            "Mother's qualification                                  0.092867   \n",
            "Father's qualification                                  0.072798   \n",
            "Mother's occupation                                     0.033489   \n",
            "Father's occupation                                     0.001253   \n",
            "Displaced                                              -0.263079   \n",
            "Educational special needs                              -0.030868   \n",
            "Debtor                                                  0.114348   \n",
            "Tuition fees up to date                                -0.127339   \n",
            "Gender                                                  0.147226   \n",
            "Scholarship holder                                     -0.152818   \n",
            "Age at enrollment                                       0.450700   \n",
            "International                                           0.005050   \n",
            "Curricular units 1st sem (credited)                     0.238269   \n",
            "Curricular units 1st sem (enrolled)                     0.159547   \n",
            "Curricular units 1st sem (evaluations)                  0.219154   \n",
            "Curricular units 1st sem (approved)                    -0.023713   \n",
            "Curricular units 1st sem (grade)                       -0.106213   \n",
            "Curricular units 1st sem (without evaluations)          0.040255   \n",
            "Curricular units 2nd sem (credited)                     0.228973   \n",
            "Curricular units 2nd sem (enrolled)                     0.127461   \n",
            "Curricular units 2nd sem (evaluations)                  0.164992   \n",
            "Curricular units 2nd sem (approved)                    -0.065203   \n",
            "Curricular units 2nd sem (grade)                       -0.104424   \n",
            "Curricular units 2nd sem (without evaluations)          0.042009   \n",
            "Unemployment rate                                       0.091567   \n",
            "Inflation rate                                         -0.019613   \n",
            "GDP                                                    -0.014563   \n",
            "\n",
            "                                                Application order    Course  \\\n",
            "Marital status                                          -0.125854  0.018925   \n",
            "Application mode                                        -0.246497 -0.085116   \n",
            "Application order                                        1.000000  0.118928   \n",
            "Course                                                   0.118928  1.000000   \n",
            "Daytime/evening attendance                               0.158657 -0.070232   \n",
            "Previous qualification                                  -0.199029 -0.158382   \n",
            "Nacionality                                             -0.029385 -0.004761   \n",
            "Mother's qualification                                  -0.061719  0.058909   \n",
            "Father's qualification                                  -0.049936  0.045659   \n",
            "Mother's occupation                                     -0.046591  0.029672   \n",
            "Father's occupation                                     -0.029754  0.016489   \n",
            "Displaced                                                0.332362  0.006142   \n",
            "Educational special needs                                0.025597 -0.001886   \n",
            "Debtor                                                  -0.072151 -0.053149   \n",
            "Tuition fees up to date                                  0.055891  0.029099   \n",
            "Gender                                                  -0.089559 -0.111383   \n",
            "Scholarship holder                                       0.073709  0.051668   \n",
            "Age at enrollment                                       -0.271154 -0.036929   \n",
            "International                                           -0.028801 -0.004662   \n",
            "Curricular units 1st sem (credited)                     -0.133354 -0.140546   \n",
            "Curricular units 1st sem (enrolled)                     -0.016808  0.112285   \n",
            "Curricular units 1st sem (evaluations)                  -0.092156  0.025970   \n",
            "Curricular units 1st sem (approved)                      0.035580  0.077038   \n",
            "Curricular units 1st sem (grade)                         0.058308  0.179482   \n",
            "Curricular units 1st sem (without evaluations)          -0.031699 -0.060483   \n",
            "Curricular units 2nd sem (credited)                     -0.125815 -0.120390   \n",
            "Curricular units 2nd sem (enrolled)                      0.028878  0.185879   \n",
            "Curricular units 2nd sem (evaluations)                  -0.055089  0.049236   \n",
            "Curricular units 2nd sem (approved)                      0.071793  0.120000   \n",
            "Curricular units 2nd sem (grade)                         0.055517  0.178997   \n",
            "Curricular units 2nd sem (without evaluations)          -0.015757 -0.013984   \n",
            "Unemployment rate                                       -0.098419 -0.050116   \n",
            "Inflation rate                                          -0.011133  0.028775   \n",
            "GDP                                                      0.030201 -0.012518   \n",
            "\n",
            "                                                Daytime/evening attendance  \\\n",
            "Marital status                                                   -0.274939   \n",
            "Application mode                                                 -0.268616   \n",
            "Application order                                                 0.158657   \n",
            "Course                                                           -0.070232   \n",
            "Daytime/evening attendance                                        1.000000   \n",
            "Previous qualification                                           -0.103022   \n",
            "Nacionality                                                       0.024433   \n",
            "Mother's qualification                                           -0.195346   \n",
            "Father's qualification                                           -0.137769   \n",
            "Mother's occupation                                              -0.037986   \n",
            "Father's occupation                                               0.000845   \n",
            "Displaced                                                         0.251767   \n",
            "Educational special needs                                         0.031017   \n",
            "Debtor                                                            0.006658   \n",
            "Tuition fees up to date                                           0.038799   \n",
            "Gender                                                           -0.012326   \n",
            "Scholarship holder                                                0.093912   \n",
            "Age at enrollment                                                -0.462280   \n",
            "International                                                     0.027973   \n",
            "Curricular units 1st sem (credited)                              -0.127466   \n",
            "Curricular units 1st sem (enrolled)                              -0.043056   \n",
            "Curricular units 1st sem (evaluations)                           -0.045889   \n",
            "Curricular units 1st sem (approved)                               0.016935   \n",
            "Curricular units 1st sem (grade)                                  0.063974   \n",
            "Curricular units 1st sem (without evaluations)                    0.045630   \n",
            "Curricular units 2nd sem (credited)                              -0.111953   \n",
            "Curricular units 2nd sem (enrolled)                               0.000371   \n",
            "Curricular units 2nd sem (evaluations)                            0.014610   \n",
            "Curricular units 2nd sem (approved)                               0.034022   \n",
            "Curricular units 2nd sem (grade)                                  0.050493   \n",
            "Curricular units 2nd sem (without evaluations)                   -0.004229   \n",
            "Unemployment rate                                                 0.061974   \n",
            "Inflation rate                                                   -0.024043   \n",
            "GDP                                                               0.022929   \n",
            "\n",
            "                                                Previous qualification  \\\n",
            "Marital status                                                0.120925   \n",
            "Application mode                                              0.433028   \n",
            "Application order                                            -0.199029   \n",
            "Course                                                       -0.158382   \n",
            "Daytime/evening attendance                                   -0.103022   \n",
            "Previous qualification                                        1.000000   \n",
            "Nacionality                                                  -0.038997   \n",
            "Mother's qualification                                        0.018868   \n",
            "Father's qualification                                        0.013152   \n",
            "Mother's occupation                                           0.006190   \n",
            "Father's occupation                                           0.005381   \n",
            "Displaced                                                    -0.149356   \n",
            "Educational special needs                                    -0.015015   \n",
            "Debtor                                                        0.117447   \n",
            "Tuition fees up to date                                      -0.095246   \n",
            "Gender                                                        0.089952   \n",
            "Scholarship holder                                           -0.085668   \n",
            "Age at enrollment                                             0.249821   \n",
            "International                                                -0.033498   \n",
            "Curricular units 1st sem (credited)                           0.159940   \n",
            "Curricular units 1st sem (enrolled)                           0.080860   \n",
            "Curricular units 1st sem (evaluations)                        0.129364   \n",
            "Curricular units 1st sem (approved)                          -0.005295   \n",
            "Curricular units 1st sem (grade)                             -0.034252   \n",
            "Curricular units 1st sem (without evaluations)                0.018276   \n",
            "Curricular units 2nd sem (credited)                           0.138463   \n",
            "Curricular units 2nd sem (enrolled)                           0.056450   \n",
            "Curricular units 2nd sem (evaluations)                        0.101501   \n",
            "Curricular units 2nd sem (approved)                          -0.037265   \n",
            "Curricular units 2nd sem (grade)                             -0.038765   \n",
            "Curricular units 2nd sem (without evaluations)                0.024186   \n",
            "Unemployment rate                                             0.096914   \n",
            "Inflation rate                                               -0.056388   \n",
            "GDP                                                           0.053968   \n",
            "\n",
            "                                                Nacionality  \\\n",
            "Marital status                                    -0.020722   \n",
            "Application mode                                  -0.001360   \n",
            "Application order                                 -0.029385   \n",
            "Course                                            -0.004761   \n",
            "Daytime/evening attendance                         0.024433   \n",
            "Previous qualification                            -0.038997   \n",
            "Nacionality                                        1.000000   \n",
            "Mother's qualification                            -0.043847   \n",
            "Father's qualification                            -0.088892   \n",
            "Mother's occupation                                0.044123   \n",
            "Father's occupation                                0.024538   \n",
            "Displaced                                         -0.010774   \n",
            "Educational special needs                         -0.002399   \n",
            "Debtor                                             0.070860   \n",
            "Tuition fees up to date                           -0.041721   \n",
            "Gender                                            -0.025462   \n",
            "Scholarship holder                                -0.018468   \n",
            "Age at enrollment                                 -0.008241   \n",
            "International                                      0.911724   \n",
            "Curricular units 1st sem (credited)                0.006604   \n",
            "Curricular units 1st sem (enrolled)               -0.008011   \n",
            "Curricular units 1st sem (evaluations)             0.005640   \n",
            "Curricular units 1st sem (approved)                0.000935   \n",
            "Curricular units 1st sem (grade)                   0.002578   \n",
            "Curricular units 1st sem (without evaluations)     0.026203   \n",
            "Curricular units 2nd sem (credited)               -0.000747   \n",
            "Curricular units 2nd sem (enrolled)               -0.020103   \n",
            "Curricular units 2nd sem (evaluations)            -0.018023   \n",
            "Curricular units 2nd sem (approved)               -0.014142   \n",
            "Curricular units 2nd sem (grade)                  -0.005409   \n",
            "Curricular units 2nd sem (without evaluations)    -0.012052   \n",
            "Unemployment rate                                 -0.006013   \n",
            "Inflation rate                                    -0.012331   \n",
            "GDP                                                0.044563   \n",
            "\n",
            "                                                Mother's qualification  \\\n",
            "Marital status                                                0.185522   \n",
            "Application mode                                              0.092867   \n",
            "Application order                                            -0.061719   \n",
            "Course                                                        0.058909   \n",
            "Daytime/evening attendance                                   -0.195346   \n",
            "Previous qualification                                        0.018868   \n",
            "Nacionality                                                  -0.043847   \n",
            "Mother's qualification                                        1.000000   \n",
            "Father's qualification                                        0.524529   \n",
            "Mother's occupation                                           0.295178   \n",
            "Father's occupation                                           0.115989   \n",
            "Displaced                                                    -0.075864   \n",
            "Educational special needs                                    -0.019808   \n",
            "Debtor                                                        0.018776   \n",
            "Tuition fees up to date                                      -0.022861   \n",
            "Gender                                                       -0.062374   \n",
            "Scholarship holder                                            0.048225   \n",
            "Age at enrollment                                             0.279921   \n",
            "International                                                -0.038672   \n",
            "Curricular units 1st sem (credited)                           0.041610   \n",
            "Curricular units 1st sem (enrolled)                           0.050582   \n",
            "Curricular units 1st sem (evaluations)                        0.041967   \n",
            "Curricular units 1st sem (approved)                          -0.010555   \n",
            "Curricular units 1st sem (grade)                             -0.034105   \n",
            "Curricular units 1st sem (without evaluations)                0.003293   \n",
            "Curricular units 2nd sem (credited)                           0.036986   \n",
            "Curricular units 2nd sem (enrolled)                           0.033070   \n",
            "Curricular units 2nd sem (evaluations)                        0.018874   \n",
            "Curricular units 2nd sem (approved)                          -0.013161   \n",
            "Curricular units 2nd sem (grade)                             -0.028472   \n",
            "Curricular units 2nd sem (without evaluations)                0.020364   \n",
            "Unemployment rate                                            -0.106107   \n",
            "Inflation rate                                                0.056653   \n",
            "GDP                                                          -0.079664   \n",
            "\n",
            "                                                Father's qualification  \\\n",
            "Marital status                                                0.128326   \n",
            "Application mode                                              0.072798   \n",
            "Application order                                            -0.049936   \n",
            "Course                                                        0.045659   \n",
            "Daytime/evening attendance                                   -0.137769   \n",
            "Previous qualification                                        0.013152   \n",
            "Nacionality                                                  -0.088892   \n",
            "Mother's qualification                                        0.524529   \n",
            "Father's qualification                                        1.000000   \n",
            "Mother's occupation                                           0.207067   \n",
            "Father's occupation                                           0.184001   \n",
            "Displaced                                                    -0.055007   \n",
            "Educational special needs                                     0.000917   \n",
            "Debtor                                                       -0.006125   \n",
            "Tuition fees up to date                                      -0.018033   \n",
            "Gender                                                       -0.073614   \n",
            "Scholarship holder                                            0.107134   \n",
            "Age at enrollment                                             0.190410   \n",
            "International                                                -0.086503   \n",
            "Curricular units 1st sem (credited)                           0.039259   \n",
            "Curricular units 1st sem (enrolled)                           0.036564   \n",
            "Curricular units 1st sem (evaluations)                        0.037225   \n",
            "Curricular units 1st sem (approved)                           0.006787   \n",
            "Curricular units 1st sem (grade)                             -0.006245   \n",
            "Curricular units 1st sem (without evaluations)               -0.017785   \n",
            "Curricular units 2nd sem (credited)                           0.041695   \n",
            "Curricular units 2nd sem (enrolled)                           0.023635   \n",
            "Curricular units 2nd sem (evaluations)                        0.009471   \n",
            "Curricular units 2nd sem (approved)                           0.006052   \n",
            "Curricular units 2nd sem (grade)                             -0.006508   \n",
            "Curricular units 2nd sem (without evaluations)               -0.008493   \n",
            "Unemployment rate                                            -0.075417   \n",
            "Inflation rate                                                0.056661   \n",
            "GDP                                                          -0.070200   \n",
            "\n",
            "                                                Mother's occupation  ...  \\\n",
            "Marital status                                             0.069734  ...   \n",
            "Application mode                                           0.033489  ...   \n",
            "Application order                                         -0.046591  ...   \n",
            "Course                                                     0.029672  ...   \n",
            "Daytime/evening attendance                                -0.037986  ...   \n",
            "Previous qualification                                     0.006190  ...   \n",
            "Nacionality                                                0.044123  ...   \n",
            "Mother's qualification                                     0.295178  ...   \n",
            "Father's qualification                                     0.207067  ...   \n",
            "Mother's occupation                                        1.000000  ...   \n",
            "Father's occupation                                        0.724007  ...   \n",
            "Displaced                                                 -0.038521  ...   \n",
            "Educational special needs                                 -0.010175  ...   \n",
            "Debtor                                                     0.108151  ...   \n",
            "Tuition fees up to date                                   -0.004395  ...   \n",
            "Gender                                                    -0.022324  ...   \n",
            "Scholarship holder                                         0.092487  ...   \n",
            "Age at enrollment                                          0.092257  ...   \n",
            "International                                              0.041414  ...   \n",
            "Curricular units 1st sem (credited)                        0.002390  ...   \n",
            "Curricular units 1st sem (enrolled)                        0.014607  ...   \n",
            "Curricular units 1st sem (evaluations)                     0.019332  ...   \n",
            "Curricular units 1st sem (approved)                        0.015198  ...   \n",
            "Curricular units 1st sem (grade)                           0.016955  ...   \n",
            "Curricular units 1st sem (without evaluations)            -0.012569  ...   \n",
            "Curricular units 2nd sem (credited)                       -0.002057  ...   \n",
            "Curricular units 2nd sem (enrolled)                        0.009287  ...   \n",
            "Curricular units 2nd sem (evaluations)                     0.011546  ...   \n",
            "Curricular units 2nd sem (approved)                        0.022309  ...   \n",
            "Curricular units 2nd sem (grade)                           0.035230  ...   \n",
            "Curricular units 2nd sem (without evaluations)            -0.004903  ...   \n",
            "Unemployment rate                                         -0.011772  ...   \n",
            "Inflation rate                                             0.015014  ...   \n",
            "GDP                                                        0.091880  ...   \n",
            "\n",
            "                                                Curricular units 1st sem (without evaluations)  \\\n",
            "Marital status                                                                        0.034711   \n",
            "Application mode                                                                      0.040255   \n",
            "Application order                                                                    -0.031699   \n",
            "Course                                                                               -0.060483   \n",
            "Daytime/evening attendance                                                            0.045630   \n",
            "Previous qualification                                                                0.018276   \n",
            "Nacionality                                                                           0.026203   \n",
            "Mother's qualification                                                                0.003293   \n",
            "Father's qualification                                                               -0.017785   \n",
            "Mother's occupation                                                                  -0.012569   \n",
            "Father's occupation                                                                  -0.035299   \n",
            "Displaced                                                                            -0.021671   \n",
            "Educational special needs                                                            -0.012324   \n",
            "Debtor                                                                                0.001812   \n",
            "Tuition fees up to date                                                              -0.049775   \n",
            "Gender                                                                               -0.006302   \n",
            "Scholarship holder                                                                   -0.057770   \n",
            "Age at enrollment                                                                     0.057470   \n",
            "International                                                                         0.031222   \n",
            "Curricular units 1st sem (credited)                                                   0.116262   \n",
            "Curricular units 1st sem (enrolled)                                                   0.129337   \n",
            "Curricular units 1st sem (evaluations)                                                0.241800   \n",
            "Curricular units 1st sem (approved)                                                  -0.013360   \n",
            "Curricular units 1st sem (grade)                                                     -0.071660   \n",
            "Curricular units 1st sem (without evaluations)                                        1.000000   \n",
            "Curricular units 2nd sem (credited)                                                   0.117359   \n",
            "Curricular units 2nd sem (enrolled)                                                   0.109924   \n",
            "Curricular units 2nd sem (evaluations)                                                0.144683   \n",
            "Curricular units 2nd sem (approved)                                                  -0.013070   \n",
            "Curricular units 2nd sem (grade)                                                     -0.061482   \n",
            "Curricular units 2nd sem (without evaluations)                                        0.583261   \n",
            "Unemployment rate                                                                    -0.045144   \n",
            "Inflation rate                                                                       -0.052534   \n",
            "GDP                                                                                  -0.144673   \n",
            "\n",
            "                                                Curricular units 2nd sem (credited)  \\\n",
            "Marital status                                                             0.062831   \n",
            "Application mode                                                           0.228973   \n",
            "Application order                                                         -0.125815   \n",
            "Course                                                                    -0.120390   \n",
            "Daytime/evening attendance                                                -0.111953   \n",
            "Previous qualification                                                     0.138463   \n",
            "Nacionality                                                               -0.000747   \n",
            "Mother's qualification                                                     0.036986   \n",
            "Father's qualification                                                     0.041695   \n",
            "Mother's occupation                                                       -0.002057   \n",
            "Father's occupation                                                       -0.014596   \n",
            "Displaced                                                                 -0.091738   \n",
            "Educational special needs                                                 -0.021671   \n",
            "Debtor                                                                     0.025414   \n",
            "Tuition fees up to date                                                    0.014204   \n",
            "Gender                                                                     0.018737   \n",
            "Scholarship holder                                                        -0.076480   \n",
            "Age at enrollment                                                          0.207561   \n",
            "International                                                              0.002573   \n",
            "Curricular units 1st sem (credited)                                        0.944811   \n",
            "Curricular units 1st sem (enrolled)                                        0.753747   \n",
            "Curricular units 1st sem (evaluations)                                     0.522187   \n",
            "Curricular units 1st sem (approved)                                        0.607661   \n",
            "Curricular units 1st sem (grade)                                           0.113937   \n",
            "Curricular units 1st sem (without evaluations)                             0.117359   \n",
            "Curricular units 2nd sem (credited)                                        1.000000   \n",
            "Curricular units 2nd sem (enrolled)                                        0.676258   \n",
            "Curricular units 2nd sem (evaluations)                                     0.430978   \n",
            "Curricular units 2nd sem (approved)                                        0.519081   \n",
            "Curricular units 2nd sem (grade)                                           0.129770   \n",
            "Curricular units 2nd sem (without evaluations)                             0.070148   \n",
            "Unemployment rate                                                          0.010580   \n",
            "Inflation rate                                                             0.014490   \n",
            "GDP                                                                       -0.024491   \n",
            "\n",
            "                                                Curricular units 2nd sem (enrolled)  \\\n",
            "Marital status                                                             0.039026   \n",
            "Application mode                                                           0.127461   \n",
            "Application order                                                          0.028878   \n",
            "Course                                                                     0.185879   \n",
            "Daytime/evening attendance                                                 0.000371   \n",
            "Previous qualification                                                     0.056450   \n",
            "Nacionality                                                               -0.020103   \n",
            "Mother's qualification                                                     0.033070   \n",
            "Father's qualification                                                     0.023635   \n",
            "Mother's occupation                                                        0.009287   \n",
            "Father's occupation                                                        0.005548   \n",
            "Displaced                                                                 -0.041823   \n",
            "Educational special needs                                                 -0.028777   \n",
            "Debtor                                                                    -0.029436   \n",
            "Tuition fees up to date                                                    0.085918   \n",
            "Gender                                                                    -0.124227   \n",
            "Scholarship holder                                                         0.026416   \n",
            "Age at enrollment                                                          0.085914   \n",
            "International                                                             -0.013577   \n",
            "Curricular units 1st sem (credited)                                        0.644826   \n",
            "Curricular units 1st sem (enrolled)                                        0.942627   \n",
            "Curricular units 1st sem (evaluations)                                     0.611842   \n",
            "Curricular units 1st sem (approved)                                        0.733772   \n",
            "Curricular units 1st sem (grade)                                           0.406167   \n",
            "Curricular units 1st sem (without evaluations)                             0.109924   \n",
            "Curricular units 2nd sem (credited)                                        0.676258   \n",
            "Curricular units 2nd sem (enrolled)                                        1.000000   \n",
            "Curricular units 2nd sem (evaluations)                                     0.604821   \n",
            "Curricular units 2nd sem (approved)                                        0.703258   \n",
            "Curricular units 2nd sem (grade)                                           0.395135   \n",
            "Curricular units 2nd sem (without evaluations)                             0.067697   \n",
            "Unemployment rate                                                          0.064436   \n",
            "Inflation rate                                                             0.016844   \n",
            "GDP                                                                       -0.007592   \n",
            "\n",
            "                                                Curricular units 2nd sem (evaluations)  \\\n",
            "Marital status                                                                0.022784   \n",
            "Application mode                                                              0.164992   \n",
            "Application order                                                            -0.055089   \n",
            "Course                                                                        0.049236   \n",
            "Daytime/evening attendance                                                    0.014610   \n",
            "Previous qualification                                                        0.101501   \n",
            "Nacionality                                                                  -0.018023   \n",
            "Mother's qualification                                                        0.018874   \n",
            "Father's qualification                                                        0.009471   \n",
            "Mother's occupation                                                           0.011546   \n",
            "Father's occupation                                                           0.000833   \n",
            "Displaced                                                                    -0.038839   \n",
            "Educational special needs                                                    -0.010851   \n",
            "Debtor                                                                        0.024201   \n",
            "Tuition fees up to date                                                       0.063482   \n",
            "Gender                                                                       -0.041789   \n",
            "Scholarship holder                                                           -0.021410   \n",
            "Age at enrollment                                                             0.056286   \n",
            "International                                                                -0.004399   \n",
            "Curricular units 1st sem (credited)                                           0.427845   \n",
            "Curricular units 1st sem (enrolled)                                           0.599567   \n",
            "Curricular units 1st sem (evaluations)                                        0.778863   \n",
            "Curricular units 1st sem (approved)                                           0.539934   \n",
            "Curricular units 1st sem (grade)                                              0.487236   \n",
            "Curricular units 1st sem (without evaluations)                                0.144683   \n",
            "Curricular units 2nd sem (credited)                                           0.430978   \n",
            "Curricular units 2nd sem (enrolled)                                           0.604821   \n",
            "Curricular units 2nd sem (evaluations)                                        1.000000   \n",
            "Curricular units 2nd sem (approved)                                           0.463535   \n",
            "Curricular units 2nd sem (grade)                                              0.453394   \n",
            "Curricular units 2nd sem (without evaluations)                                0.144877   \n",
            "Unemployment rate                                                             0.045808   \n",
            "Inflation rate                                                               -0.012643   \n",
            "GDP                                                                          -0.004854   \n",
            "\n",
            "                                                Curricular units 2nd sem (approved)  \\\n",
            "Marital status                                                            -0.043739   \n",
            "Application mode                                                          -0.065203   \n",
            "Application order                                                          0.071793   \n",
            "Course                                                                     0.120000   \n",
            "Daytime/evening attendance                                                 0.034022   \n",
            "Previous qualification                                                    -0.037265   \n",
            "Nacionality                                                               -0.014142   \n",
            "Mother's qualification                                                    -0.013161   \n",
            "Father's qualification                                                     0.006052   \n",
            "Mother's occupation                                                        0.022309   \n",
            "Father's occupation                                                        0.023651   \n",
            "Displaced                                                                  0.063698   \n",
            "Educational special needs                                                 -0.016315   \n",
            "Debtor                                                                    -0.146977   \n",
            "Tuition fees up to date                                                    0.291921   \n",
            "Gender                                                                    -0.224266   \n",
            "Scholarship holder                                                         0.202704   \n",
            "Age at enrollment                                                         -0.112052   \n",
            "International                                                             -0.010565   \n",
            "Curricular units 1st sem (credited)                                        0.490478   \n",
            "Curricular units 1st sem (enrolled)                                        0.673341   \n",
            "Curricular units 1st sem (evaluations)                                     0.442265   \n",
            "Curricular units 1st sem (approved)                                        0.904002   \n",
            "Curricular units 1st sem (grade)                                           0.673335   \n",
            "Curricular units 1st sem (without evaluations)                            -0.013070   \n",
            "Curricular units 2nd sem (credited)                                        0.519081   \n",
            "Curricular units 2nd sem (enrolled)                                        0.703258   \n",
            "Curricular units 2nd sem (evaluations)                                     0.463535   \n",
            "Curricular units 2nd sem (approved)                                        1.000000   \n",
            "Curricular units 2nd sem (grade)                                           0.760804   \n",
            "Curricular units 2nd sem (without evaluations)                            -0.061567   \n",
            "Unemployment rate                                                          0.048805   \n",
            "Inflation rate                                                            -0.024566   \n",
            "GDP                                                                        0.022427   \n",
            "\n",
            "                                                Curricular units 2nd sem (grade)  \\\n",
            "Marital status                                                         -0.071506   \n",
            "Application mode                                                       -0.104424   \n",
            "Application order                                                       0.055517   \n",
            "Course                                                                  0.178997   \n",
            "Daytime/evening attendance                                              0.050493   \n",
            "Previous qualification                                                 -0.038765   \n",
            "Nacionality                                                            -0.005409   \n",
            "Mother's qualification                                                 -0.028472   \n",
            "Father's qualification                                                 -0.006508   \n",
            "Mother's occupation                                                     0.035230   \n",
            "Father's occupation                                                     0.036711   \n",
            "Displaced                                                               0.069087   \n",
            "Educational special needs                                              -0.012761   \n",
            "Debtor                                                                 -0.139424   \n",
            "Tuition fees up to date                                                 0.296480   \n",
            "Gender                                                                 -0.199133   \n",
            "Scholarship holder                                                      0.181227   \n",
            "Age at enrollment                                                      -0.173419   \n",
            "International                                                           0.001460   \n",
            "Curricular units 1st sem (credited)                                     0.132971   \n",
            "Curricular units 1st sem (enrolled)                                     0.361959   \n",
            "Curricular units 1st sem (evaluations)                                  0.355036   \n",
            "Curricular units 1st sem (approved)                                     0.685560   \n",
            "Curricular units 1st sem (grade)                                        0.837170   \n",
            "Curricular units 1st sem (without evaluations)                         -0.061482   \n",
            "Curricular units 2nd sem (credited)                                     0.129770   \n",
            "Curricular units 2nd sem (enrolled)                                     0.395135   \n",
            "Curricular units 2nd sem (evaluations)                                  0.453394   \n",
            "Curricular units 2nd sem (approved)                                     0.760804   \n",
            "Curricular units 2nd sem (grade)                                        1.000000   \n",
            "Curricular units 2nd sem (without evaluations)                         -0.079216   \n",
            "Unemployment rate                                                       0.001462   \n",
            "Inflation rate                                                         -0.038166   \n",
            "GDP                                                                     0.071269   \n",
            "\n",
            "                                                Curricular units 2nd sem (without evaluations)  \\\n",
            "Marital status                                                                        0.020426   \n",
            "Application mode                                                                      0.042009   \n",
            "Application order                                                                    -0.015757   \n",
            "Course                                                                               -0.013984   \n",
            "Daytime/evening attendance                                                           -0.004229   \n",
            "Previous qualification                                                                0.024186   \n",
            "Nacionality                                                                          -0.012052   \n",
            "Mother's qualification                                                                0.020364   \n",
            "Father's qualification                                                               -0.008493   \n",
            "Mother's occupation                                                                  -0.004903   \n",
            "Father's occupation                                                                  -0.044760   \n",
            "Displaced                                                                            -0.035959   \n",
            "Educational special needs                                                            -0.007491   \n",
            "Debtor                                                                                0.048552   \n",
            "Tuition fees up to date                                                              -0.071817   \n",
            "Gender                                                                                0.057223   \n",
            "Scholarship holder                                                                   -0.048723   \n",
            "Age at enrollment                                                                     0.061654   \n",
            "International                                                                        -0.010660   \n",
            "Curricular units 1st sem (credited)                                                   0.055256   \n",
            "Curricular units 1st sem (enrolled)                                                   0.069547   \n",
            "Curricular units 1st sem (evaluations)                                                0.134296   \n",
            "Curricular units 1st sem (approved)                                                  -0.053983   \n",
            "Curricular units 1st sem (grade)                                                     -0.066076   \n",
            "Curricular units 1st sem (without evaluations)                                        0.583261   \n",
            "Curricular units 2nd sem (credited)                                                   0.070148   \n",
            "Curricular units 2nd sem (enrolled)                                                   0.067697   \n",
            "Curricular units 2nd sem (evaluations)                                                0.144877   \n",
            "Curricular units 2nd sem (approved)                                                  -0.061567   \n",
            "Curricular units 2nd sem (grade)                                                     -0.079216   \n",
            "Curricular units 2nd sem (without evaluations)                                        1.000000   \n",
            "Unemployment rate                                                                    -0.013960   \n",
            "Inflation rate                                                                       -0.034391   \n",
            "GDP                                                                                  -0.080292   \n",
            "\n",
            "                                                Unemployment rate  \\\n",
            "Marital status                                          -0.020338   \n",
            "Application mode                                         0.091567   \n",
            "Application order                                       -0.098419   \n",
            "Course                                                  -0.050116   \n",
            "Daytime/evening attendance                               0.061974   \n",
            "Previous qualification                                   0.096914   \n",
            "Nacionality                                             -0.006013   \n",
            "Mother's qualification                                  -0.106107   \n",
            "Father's qualification                                  -0.075417   \n",
            "Mother's occupation                                     -0.011772   \n",
            "Father's occupation                                     -0.026094   \n",
            "Displaced                                               -0.130327   \n",
            "Educational special needs                                0.046131   \n",
            "Debtor                                                   0.021128   \n",
            "Tuition fees up to date                                  0.013460   \n",
            "Gender                                                   0.022195   \n",
            "Scholarship holder                                       0.055152   \n",
            "Age at enrollment                                        0.025018   \n",
            "International                                           -0.010015   \n",
            "Curricular units 1st sem (credited)                      0.009778   \n",
            "Curricular units 1st sem (enrolled)                      0.038404   \n",
            "Curricular units 1st sem (evaluations)                   0.061545   \n",
            "Curricular units 1st sem (approved)                      0.051286   \n",
            "Curricular units 1st sem (grade)                         0.014821   \n",
            "Curricular units 1st sem (without evaluations)          -0.045144   \n",
            "Curricular units 2nd sem (credited)                      0.010580   \n",
            "Curricular units 2nd sem (enrolled)                      0.064436   \n",
            "Curricular units 2nd sem (evaluations)                   0.045808   \n",
            "Curricular units 2nd sem (approved)                      0.048805   \n",
            "Curricular units 2nd sem (grade)                         0.001462   \n",
            "Curricular units 2nd sem (without evaluations)          -0.013960   \n",
            "Unemployment rate                                        1.000000   \n",
            "Inflation rate                                          -0.028885   \n",
            "GDP                                                     -0.335178   \n",
            "\n",
            "                                                Inflation rate       GDP  \n",
            "Marital status                                        0.008761 -0.027003  \n",
            "Application mode                                     -0.019613 -0.014563  \n",
            "Application order                                    -0.011133  0.030201  \n",
            "Course                                                0.028775 -0.012518  \n",
            "Daytime/evening attendance                           -0.024043  0.022929  \n",
            "Previous qualification                               -0.056388  0.053968  \n",
            "Nacionality                                          -0.012331  0.044563  \n",
            "Mother's qualification                                0.056653 -0.079664  \n",
            "Father's qualification                                0.056661 -0.070200  \n",
            "Mother's occupation                                   0.015014  0.091880  \n",
            "Father's occupation                                   0.008047  0.125574  \n",
            "Displaced                                            -0.012385  0.062875  \n",
            "Educational special needs                             0.004396  0.012016  \n",
            "Debtor                                               -0.021888  0.075050  \n",
            "Tuition fees up to date                              -0.000706 -0.002768  \n",
            "Gender                                                0.003556 -0.008108  \n",
            "Scholarship holder                                   -0.031104  0.035650  \n",
            "Age at enrollment                                     0.025377 -0.064678  \n",
            "International                                        -0.009642  0.044389  \n",
            "Curricular units 1st sem (credited)                   0.023348 -0.026513  \n",
            "Curricular units 1st sem (enrolled)                   0.036758 -0.026262  \n",
            "Curricular units 1st sem (evaluations)               -0.006604 -0.099761  \n",
            "Curricular units 1st sem (approved)                  -0.007114  0.018459  \n",
            "Curricular units 1st sem (grade)                     -0.033904  0.054801  \n",
            "Curricular units 1st sem (without evaluations)       -0.052534 -0.144673  \n",
            "Curricular units 2nd sem (credited)                   0.014490 -0.024491  \n",
            "Curricular units 2nd sem (enrolled)                   0.016844 -0.007592  \n",
            "Curricular units 2nd sem (evaluations)               -0.012643 -0.004854  \n",
            "Curricular units 2nd sem (approved)                  -0.024566  0.022427  \n",
            "Curricular units 2nd sem (grade)                     -0.038166  0.071269  \n",
            "Curricular units 2nd sem (without evaluations)       -0.034391 -0.080292  \n",
            "Unemployment rate                                    -0.028885 -0.335178  \n",
            "Inflation rate                                        1.000000 -0.112295  \n",
            "GDP                                                  -0.112295  1.000000  \n",
            "\n",
            "[34 rows x 34 columns]\n"
          ]
        }
      ],
      "source": [
        "# Informações gerais\n",
        "print(\"Dimensões do dataset:\", df.shape)\n",
        "print(\"\\nTipos de dados:\")\n",
        "print(df.dtypes)\n",
        "print(\"\\nValores ausentes por coluna:\")\n",
        "print(df.isnull().sum())\n",
        "\n",
        "# Balanceamento das classes\n",
        "print(\"\\nDistribuição da coluna alvo:\")\n",
        "print(df['Target'].value_counts(normalize=True))\n",
        "\n",
        "# Estatísticas descritivas\n",
        "print(\"\\nEstatísticas descritivas:\")\n",
        "print(df.describe())\n",
        "\n",
        "# Filtrando as colunas numéricas\n",
        "numerical_columns = df.select_dtypes(include=['int64', 'float64'])\n",
        "\n",
        "# Calculando a matriz de correlação\n",
        "correlation_matrix = numerical_columns.corr()\n",
        "\n",
        "# Exibindo a matriz de correlação\n",
        "print(correlation_matrix)\n"
      ]
    },
    {
      "cell_type": "markdown",
      "metadata": {
        "id": "MAyeZv5TacAP"
      },
      "source": [
        "Separando o dataset entre treino e teste:"
      ]
    },
    {
      "cell_type": "code",
      "execution_count": 4,
      "metadata": {
        "id": "N32K5Br9LvZZ"
      },
      "outputs": [],
      "source": [
        "# Separar os dados em atributos (X) e alvo (y)\n",
        "X = df.drop('Target', axis=1)  # Remove a coluna de destino\n",
        "y = df['Target']  # Define a coluna de destino\n",
        "\n",
        "# Dividir os dados em treino e teste (70% treino, 30% teste)\n",
        "X_train, X_test, y_train, y_test = train_test_split(X, y, test_size=0.3, random_state=42)\n",
        "\n",
        "# Dividir o conjunto de treino em treino e validação (85% treino, 15% validação)\n",
        "X_train, X_val, y_train, y_val = train_test_split(X_train, y_train, test_size=0.15, random_state=42)\n",
        "\n",
        "# Treinar o modelo inicial\n",
        "rf_model = RandomForestClassifier(random_state=42)\n",
        "rf_model.fit(X_train, y_train)\n",
        "\n",
        "# Calcular a importância das features\n",
        "feature_importances = rf_model.feature_importances_"
      ]
    },
    {
      "cell_type": "markdown",
      "metadata": {
        "id": "Sx9VBrU4bT25"
      },
      "source": [
        "Operações de Transformação de Dados:\n",
        "\n",
        "* Imputação de valores faltantes: Utilizar a média para valores numéricos e a moda para valores categóricos ajuda a lidar com a falta de dados sem perder informações importantes.\n",
        "* Padronização: A padronização é fundamental para evitar que as variáveis numéricas com escalas diferentes afetem o modelo de maneira desigual.\n",
        "* One-Hot Encoding: A transformação das variáveis categóricas em variáveis binárias é necessária para permitir que o modelo trabalhe com elas.\n",
        "* Pipeline: O uso de pipelines permite encapsular todas as transformações e o modelo em uma única estrutura, garantindo um fluxo de trabalho limpo e eficiente.\n",
        "\n",
        "\n"
      ]
    },
    {
      "cell_type": "code",
      "execution_count": 5,
      "metadata": {
        "colab": {
          "base_uri": "https://localhost:8080/"
        },
        "id": "YLK5r2iJKJeQ",
        "outputId": "d826d77e-2aca-495f-aa10-91200fe9bf9a"
      },
      "outputs": [
        {
          "output_type": "stream",
          "name": "stdout",
          "text": [
            "Acurácia do modelo: 0.7545\n"
          ]
        }
      ],
      "source": [
        "# Lista de colunas numéricas e categóricas\n",
        "numeric_features = X.select_dtypes(include=['int64', 'float64']).columns\n",
        "categorical_features = X.select_dtypes(include=['object']).columns\n",
        "\n",
        "# Preprocessamento de colunas numéricas\n",
        "numeric_transformer = Pipeline(steps=[\n",
        "    ('imputer', SimpleImputer(strategy='mean')),  # Imputação de valores faltantes\n",
        "    ('scaler', StandardScaler())  # Padronização\n",
        "])\n",
        "\n",
        "# Preprocessamento de colunas categóricas\n",
        "categorical_transformer = Pipeline(steps=[\n",
        "    ('imputer', SimpleImputer(strategy='most_frequent')),  # Imputação de valores faltantes\n",
        "    ('onehot', OneHotEncoder(handle_unknown='ignore'))  # One-Hot Encoding\n",
        "])\n",
        "\n",
        "# Combinar as transformações para colunas numéricas e categóricas\n",
        "preprocessor = ColumnTransformer(\n",
        "    transformers=[\n",
        "        ('num', numeric_transformer, numeric_features),\n",
        "        ('cat', categorical_transformer, categorical_features)\n",
        "    ])\n",
        "\n",
        "# Criar um pipeline completo com o pré-processamento e o modelo\n",
        "model_pipeline = Pipeline(steps=[\n",
        "    ('preprocessor', preprocessor),\n",
        "    ('classifier', RandomForestClassifier(random_state=42))\n",
        "])\n",
        "\n",
        "# Treinar o pipeline\n",
        "model_pipeline.fit(X_train, y_train)\n",
        "\n",
        "# Fazer previsões\n",
        "y_pred = model_pipeline.predict(X_test)\n",
        "\n",
        "# Avaliar o modelo\n",
        "accuracy = accuracy_score(y_test, y_pred)\n",
        "print(f'Acurácia do modelo: {accuracy:.4f}')"
      ]
    },
    {
      "cell_type": "markdown",
      "metadata": {
        "id": "_FflMwILak7d"
      },
      "source": [
        "Validação Cruzada: Por que a validação cruzada faz sentido?\n",
        "\n",
        "* Redução de Viés e Variância: A validação cruzada ajuda a reduzir o viés de avaliação que pode ocorrer se o modelo for avaliado em apenas uma divisão dos dados. Além disso, ao testar o modelo em diferentes subconjuntos dos dados, ela também reduz a variância nas estimativas de desempenho.\n",
        "\n",
        "* Evita Overfitting: Em vez de treinar e testar o modelo em apenas uma divisão de dados, a validação cruzada treina o modelo em várias divisões, o que ajuda a identificar se o modelo está se ajustando excessivamente aos dados de treinamento (overfitting) ou se é capaz de generalizar para dados não vistos.\n",
        "\n",
        "* Estimativa Confiável do Desempenho: Com validação cruzada, você obtém uma média das pontuações de avaliação, o que fornece uma estimativa mais robusta e confiável sobre como o modelo se comportará em dados futuros."
      ]
    },
    {
      "cell_type": "code",
      "execution_count": 6,
      "metadata": {
        "colab": {
          "base_uri": "https://localhost:8080/"
        },
        "id": "znn9rGwQHV3L",
        "outputId": "330e1e46-29f5-4d32-dd7e-30e750bfa7c0"
      },
      "outputs": [
        {
          "output_type": "stream",
          "name": "stdout",
          "text": [
            "Média das pontuações de validação cruzada: 0.7700\n",
            "Desvio padrão das pontuações: 0.0057\n"
          ]
        }
      ],
      "source": [
        "# Treinar o modelo inicial com validação cruzada\n",
        "rf_model = RandomForestClassifier(random_state=42)\n",
        "\n",
        "# Validar com validação cruzada (5 folds)\n",
        "cv_scores = cross_val_score(rf_model, X_train, y_train, cv=5, scoring='accuracy')\n",
        "\n",
        "# Exibir a média das pontuações de validação cruzada\n",
        "print(f'Média das pontuações de validação cruzada: {cv_scores.mean():.4f}')\n",
        "print(f'Desvio padrão das pontuações: {cv_scores.std():.4f}')"
      ]
    },
    {
      "cell_type": "markdown",
      "metadata": {
        "id": "EdCelz8Fbwi9"
      },
      "source": [
        "Refinar a Quantidade de Atributos: Feature Selection"
      ]
    },
    {
      "cell_type": "code",
      "execution_count": 7,
      "metadata": {
        "colab": {
          "base_uri": "https://localhost:8080/"
        },
        "id": "VfApi38iIcZb",
        "outputId": "b2dc8067-b4c9-434e-e8ca-9b969befdb8d"
      },
      "outputs": [
        {
          "output_type": "stream",
          "name": "stdout",
          "text": [
            "Acurácia no conjunto de teste reduzido: 0.7681\n"
          ]
        }
      ],
      "source": [
        "# Obter as colunas transformadas após o pré-processamento\n",
        "preprocessor = model_pipeline.named_steps['preprocessor']\n",
        "\n",
        "# Obter os nomes das colunas numéricas\n",
        "numeric_column_names = numeric_features.tolist()\n",
        "\n",
        "# Garantir que o OneHotEncoder foi ajustado e obter os nomes das colunas categóricas processadas\n",
        "categorical_transformer_fitted = preprocessor.transformers_[1][1]\n",
        "categorical_encoder = categorical_transformer_fitted.named_steps['onehot']\n",
        "categorical_encoder.fit(X[categorical_features])  # Ajusta diretamente no subconjunto categórico, se necessário\n",
        "categorical_column_names = categorical_encoder.get_feature_names_out(categorical_features).tolist()\n",
        "\n",
        "# Combinar os nomes das colunas\n",
        "transformed_feature_names = numeric_column_names + categorical_column_names\n",
        "\n",
        "# Obter importâncias das features\n",
        "feature_importances = model_pipeline.named_steps['classifier'].feature_importances_\n",
        "\n",
        "# Criar DataFrame com as importâncias\n",
        "feature_importances_df = pd.DataFrame({\n",
        "    'feature': transformed_feature_names,\n",
        "    'importance': feature_importances\n",
        "})\n",
        "\n",
        "# Filtrar as colunas com importância > 0.02\n",
        "important_features = feature_importances_df[feature_importances_df['importance'] > 0.02]['feature'].tolist()\n",
        "\n",
        "# Filtrar apenas as colunas importantes do conjunto transformado\n",
        "X_train_transformed = preprocessor.transform(X_train)\n",
        "X_test_transformed = preprocessor.transform(X_test)\n",
        "\n",
        "# Converter para DataFrame para aplicar os nomes das colunas transformadas\n",
        "X_train_reduced = pd.DataFrame(X_train_transformed, columns=transformed_feature_names)[important_features]\n",
        "X_test_reduced = pd.DataFrame(X_test_transformed, columns=transformed_feature_names)[important_features]\n",
        "\n",
        "# Treinar novamente o modelo com as colunas reduzidas\n",
        "rf_model = RandomForestClassifier(random_state=42)\n",
        "rf_model.fit(X_train_reduced, y_train)\n",
        "\n",
        "# Avaliar o modelo no conjunto de teste reduzido\n",
        "y_test_pred = rf_model.predict(X_test_reduced)\n",
        "accuracy_test = accuracy_score(y_test, y_test_pred)\n",
        "print(f'Acurácia no conjunto de teste reduzido: {accuracy_test:.4f}')"
      ]
    },
    {
      "cell_type": "code",
      "execution_count": 8,
      "metadata": {
        "colab": {
          "base_uri": "https://localhost:8080/"
        },
        "id": "Q-p_A34nN-5r",
        "outputId": "4030ded6-162c-4f87-8bc7-242d51745147"
      },
      "outputs": [
        {
          "output_type": "stream",
          "name": "stdout",
          "text": [
            "Média das pontuações com features reduzidas: 0.7659\n",
            "Desvio padrão das pontuações: 0.0041\n"
          ]
        }
      ],
      "source": [
        "# Após selecionar as features importantes\n",
        "rf_model = RandomForestClassifier(random_state=42)\n",
        "\n",
        "# Validar com validação cruzada no conjunto reduzido\n",
        "cv_scores_reduced = cross_val_score(rf_model, X_train_reduced, y_train, cv=5, scoring='accuracy')\n",
        "\n",
        "# Exibir os resultados\n",
        "print(f'Média das pontuações com features reduzidas: {cv_scores_reduced.mean():.4f}')\n",
        "print(f'Desvio padrão das pontuações: {cv_scores_reduced.std():.4f}')"
      ]
    },
    {
      "cell_type": "markdown",
      "source": [
        "Podemos observar que O feature selection não causou uma melhoria significativa na acurácia média, mas ajudou a tornar o modelo mais estável e robusto, reduzindo o desvio padrão."
      ],
      "metadata": {
        "id": "-8HNqcy49rwQ"
      }
    },
    {
      "cell_type": "markdown",
      "metadata": {
        "id": "Km5r5mT3dCxm"
      },
      "source": [
        "##Modelagem e Treinamento"
      ]
    },
    {
      "cell_type": "markdown",
      "metadata": {
        "id": "eZMR4rV2dIhl"
      },
      "source": [
        "**Algoritmos escolhidos para o problema: Random Forest, XGBoost e SVM (Support Vector Machine).**\n",
        "\n",
        "Justificativa:\n",
        "* Random Forest é uma escolha excelente devido à sua capacidade de lidar com dados de alta dimensionalidade e de ter boa robustez contra overfitting. Ele também oferece interpretabilidade, importante para entender as features mais relevantes para o risco de dropout.\n",
        "* XGBoost oferece alta performance, especialmente para grandes datasets, e é ideal para classificação desbalanceada. Sua capacidade de regularização o torna muito eficaz em modelos complexos.\n",
        "* SVM pode ser útil para capturar relacionamentos não lineares complexos entre as variáveis e pode ser uma boa opção se você observar que os modelos anteriores não estão lidando bem com essas relações.\n"
      ]
    },
    {
      "cell_type": "markdown",
      "metadata": {
        "id": "YfVQ5KWbLVUV"
      },
      "source": [
        "**Ajustes Hiperparâmetros:**\n",
        "  \n",
        "  1. RandomForestClassifier (rf):\n",
        "\n",
        "       * n_estimators=200: Inicialmente, utilizando 200 árvores para melhorar a performance e capturar padrões mais complexos.\n",
        "       * max_depth=20: Aprofundando as árvores para permitir uma modelagem mais detalhada e uma maior capacidade de aprendizado.\n",
        "       * class_weight='balanced': Usado para lidar com o desbalanceamento de classes, atribuindo pesos maiores para as classes menos frequentes.\n",
        "       * random_state=42: Fixado a semente para garantir a reprodutibilidade dos resultados.\n",
        "\n",
        "  2. XGBClassifier (xgb):\n",
        "       * learning_rate=0.2: A taxa de aprendizado foi inicializada em 0.2, um valor relativamente alto, o que pode acelerar o aprendizado, mas pode gerar overfitting.\n",
        "       * max_depth=3: O modelo foi configurado com uma profundidade menor para evitar modelos muito complexos.\n",
        "       * n_estimators=100: Começou com 100 árvores para equilibrar a complexidade do modelo e o tempo de treinamento.\n",
        "       * subsample=0.8: Usado 80% das amostras para cada árvore, o que ajuda a reduzir o risco de overfitting.\n",
        "       * random_state=42: Novamente, fixado a semente para reprodutibilidade.\n",
        "\n",
        "Alterações feitas para lidar com overfitting:\n",
        "\n",
        "  1. RandomForestClassifier (rf):\n",
        "       * n_estimators=100: Reduzido o número de árvores de 200 para 100 para evitar que o modelo se torne excessivamente complexo e overfit.\n",
        "       * max_depth=10: Limitado a profundidade das árvores de 20 para 10 para evitar que o modelo se ajuste demais aos dados de treinamento.\n",
        "       * min_samples_split=10: Aumentada a quantidade mínima de amostras para dividir um nó (de 2 para 10) para forçar o modelo a criar divisões mais robustas e generalizáveis.\n",
        "       * min_samples_leaf=5: Exigido um número mínimo de amostras (5) para uma folha, o que suaviza o modelo e impede que ele se ajuste excessivamente a pequenos detalhes dos dados.\n",
        "       * max_features='sqrt': Limitado a quantidade de features consideradas em cada divisão, o que ajuda a reduzir o overfitting, permitindo que o modelo seja mais generalizável.\n",
        "\n",
        "  2. XGBClassifier (xgb):\n",
        "       * learning_rate=0.1: Reduzido a taxa de aprendizado de 0.2 para 0.1 para tornar o aprendizado mais gradual e melhorar a generalização.\n",
        "       * max_depth=6: A profundidade das árvores foi reduzida de 3 para 6 para permitir um modelo mais complexo, mas ainda controlado, evitando overfitting.\n",
        "       * n_estimators=200: Aumentado o número de árvores para 200, já que agora a taxa de aprendizado foi reduzida, permitindo mais árvores sem risco de overfitting.\n",
        "       * subsample=0.8: Mantive o subsample de 0.8, o que ajuda a garantir que o modelo não se ajuste excessivamente aos dados.\n",
        "       * colsample_bytree=0.8: Limitado a quantidade de features usadas por árvore (80%) para reduzir a complexidade e o risco de overfitting.\n",
        "\n",
        "      \n",
        "\n",
        "  O SVM foi mantido sem ajustes adicionais porque: O modelo já funcionou bem com os parâmetros padrão; Não houve sinais fortes de overfitting; A performance foi razoável em relação aos outros modelos;\n",
        "  Ajustes finos no SVM não se mostraram necessários para o contexto atual do problema."
      ]
    },
    {
      "cell_type": "code",
      "execution_count": 26,
      "metadata": {
        "colab": {
          "base_uri": "https://localhost:8080/"
        },
        "id": "2AZzzpp3XhSe",
        "outputId": "798a9005-32bc-4c5e-82bd-b4f64287e230"
      },
      "outputs": [
        {
          "output_type": "stream",
          "name": "stdout",
          "text": [
            "Média da Acurácia com Validação Cruzada: 0.7521922641250784\n"
          ]
        }
      ],
      "source": [
        "# Codificando os rótulos de treino e teste com o mesmo LabelEncoder\n",
        "label_encoder = LabelEncoder()\n",
        "y_train_encoded = label_encoder.fit_transform(y_train)  # Codificando os rótulos de y_train\n",
        "y_test_encoded = label_encoder.transform(y_test)  # Usando o mesmo fit_transform para y_test\n",
        "\n",
        "# Criando os modelos individuais\n",
        "rf = RandomForestClassifier(\n",
        "    n_estimators=100,\n",
        "    max_depth=10,\n",
        "    min_samples_split=10,\n",
        "    min_samples_leaf=5,\n",
        "    max_features='sqrt',\n",
        "    class_weight='balanced',\n",
        "    random_state=42\n",
        ")\n",
        "xgb = XGBClassifier(\n",
        "    learning_rate=0.1,\n",
        "    max_depth=6,\n",
        "    n_estimators=200,\n",
        "    subsample=0.8,\n",
        "    colsample_bytree=0.8,\n",
        "    random_state=42\n",
        ")\n",
        "svm = SVC(probability=True, kernel='linear', random_state=42)\n",
        "\n",
        "# Treinando os modelos individuais\n",
        "rf.fit(X_train, y_train_encoded)\n",
        "xgb.fit(X_train, y_train_encoded)\n",
        "svm.fit(X_train, y_train_encoded)\n",
        "\n",
        "# Realizando a validação cruzada e verificando a performance\n",
        "cv_scores = cross_val_score(rf, X_train, y_train_encoded, cv=5, scoring='accuracy')\n",
        "\n",
        "print(f'Média da Acurácia com Validação Cruzada: {cv_scores.mean()}')"
      ]
    },
    {
      "cell_type": "markdown",
      "source": [
        "O ensemble criado foi composto pelos modelos VotingClassifier e StackingClassifier, que são técnicas de meta-aprendizagem.\n",
        "\n",
        "  * VotingClassifier: Combina as previsões de múltiplos modelos (neste caso, RandomForest, XGBoost e SVM), utilizando o método de votação. Ele pode ser votação majoritária (onde a classe mais comum é escolhida) ou votação ponderada (onde as previsões dos modelos são ponderadas por sua acurácia). O modelo final é uma média das previsões dos modelos base. A vantagem é que ele tende a melhorar a acurácia, pois reduz o risco de overfitting ou underfitting de um único modelo.\n",
        "\n",
        "  * StackingClassifier: Utiliza o conceito de empilhamento, onde um conjunto de modelos base (RandomForest, XGBoost e SVM) é treinado e suas previsões são passadas para um modelo final (metamodelo), que aprende a combinar as previsões dos modelos base de forma mais eficiente. O Stacking é eficaz em capturar relações complexas entre os modelos base e pode superar um modelo único, especialmente em datasets com variabilidade."
      ],
      "metadata": {
        "id": "JyOKh77cDJZ-"
      }
    },
    {
      "cell_type": "code",
      "execution_count": 10,
      "metadata": {
        "colab": {
          "base_uri": "https://localhost:8080/"
        },
        "id": "T_ZZWclEaIkh",
        "outputId": "a6992ba3-9412-45b1-eac6-1e8cc41c87ea"
      },
      "outputs": [
        {
          "output_type": "stream",
          "name": "stdout",
          "text": [
            "Acurácia do VotingClassifier: 0.7786144578313253\n",
            "F1 Score do VotingClassifier: 0.710654458402419\n"
          ]
        }
      ],
      "source": [
        "# Criando o ensemble com VotingClassifier\n",
        "voting_clf = VotingClassifier(estimators=[('rf', rf), ('xgb', xgb), ('svm', svm)], voting='soft')\n",
        "voting_clf.fit(X_train, y_train_encoded)\n",
        "\n",
        "# Avaliação do VotingClassifier\n",
        "y_pred = voting_clf.predict(X_test)\n",
        "print(f'Acurácia do VotingClassifier: {accuracy_score(y_test_encoded, y_pred)}')\n",
        "print(f'F1 Score do VotingClassifier: {f1_score(y_test_encoded, y_pred, average=\"macro\")}')"
      ]
    },
    {
      "cell_type": "code",
      "execution_count": 11,
      "metadata": {
        "colab": {
          "base_uri": "https://localhost:8080/"
        },
        "id": "n5n-qsi7WCe0",
        "outputId": "ef708b3b-a655-40cd-f6ca-8b185accafc0"
      },
      "outputs": [
        {
          "output_type": "stream",
          "name": "stdout",
          "text": [
            "Acurácia do StackingClassifier: 0.7793674698795181\n",
            "F1 Score do StackingClassifier: 0.7110322850267196\n"
          ]
        }
      ],
      "source": [
        "# Criando o ensemble com StackingClassifier\n",
        "base_learners = [('rf', rf), ('xgb', xgb), ('svm', svm)]\n",
        "stacking_clf = StackingClassifier(estimators=base_learners, final_estimator=LogisticRegression())\n",
        "stacking_clf.fit(X_train, y_train_encoded)\n",
        "\n",
        "# Avaliação do StackingClassifier\n",
        "y_pred = stacking_clf.predict(X_test)\n",
        "print(f'Acurácia do StackingClassifier: {accuracy_score(y_test_encoded, y_pred)}')\n",
        "print(f'F1 Score do StackingClassifier: {f1_score(y_test_encoded, y_pred, average=\"macro\")}')"
      ]
    },
    {
      "cell_type": "code",
      "execution_count": 12,
      "metadata": {
        "colab": {
          "base_uri": "https://localhost:8080/"
        },
        "id": "wO2gtbv2aLbm",
        "outputId": "78250d28-f4f6-46dd-c765-f69f979580e8"
      },
      "outputs": [
        {
          "output_type": "stream",
          "name": "stdout",
          "text": [
            "Relatório de Classificação:\n",
            "              precision    recall  f1-score   support\n",
            "\n",
            "           0       0.81      0.79      0.80       441\n",
            "           1       0.58      0.40      0.47       245\n",
            "           2       0.81      0.92      0.86       642\n",
            "\n",
            "    accuracy                           0.78      1328\n",
            "   macro avg       0.73      0.70      0.71      1328\n",
            "weighted avg       0.77      0.78      0.77      1328\n",
            "\n",
            "Matriz de Confusão:\n",
            "[[349  37  55]\n",
            " [ 60  98  87]\n",
            " [ 21  33 588]]\n",
            "ROC-AUC (multiclasse, OVR): 0.8835274637656173\n"
          ]
        }
      ],
      "source": [
        "# Relatório de classificação e Matriz de Confusão\n",
        "print(\"Relatório de Classificação:\")\n",
        "print(classification_report(y_test_encoded, y_pred))\n",
        "\n",
        "print(\"Matriz de Confusão:\")\n",
        "print(confusion_matrix(y_test_encoded, y_pred))\n",
        "\n",
        "# Cálculo do ROC-AUC para problemas multiclasse\n",
        "y_proba = stacking_clf.predict_proba(X_test)\n",
        "try:\n",
        "    roc_auc = roc_auc_score(y_test_encoded, y_proba, multi_class='ovr')\n",
        "    print(f\"ROC-AUC (multiclasse, OVR): {roc_auc}\")\n",
        "except ValueError as e:\n",
        "    print(f\"Erro ao calcular ROC-AUC: {e}\")"
      ]
    },
    {
      "cell_type": "markdown",
      "source": [
        "**O modelo foi devidamente treinado? Foi observado problema de underfitting?**\n",
        "\n",
        "Sim, o modelo foi devidamente treinado. A **média da acurácia com validação cruzada** (0.752) está dentro de uma faixa razoável e a **acurácia no conjunto de teste** (cerca de 0.78) mostra que o modelo generaliza bem.\n",
        "\n",
        "Não foi observado **underfitting**: a acurácia do **VotingClassifier** e do **StackingClassifier** (aproximadamente 0.78) e o **F1 Score** indicam que o modelo tem um desempenho satisfatório em relação às classes, com boa capacidade de classificação. No entanto, é importante observar que há um desempenho desigual entre as classes, com a classe 1 tendo uma acurácia e recall mais baixos, o que sugere um possível problema de **desbalanceamento** ou **dificuldade de aprendizado** em classificar essa classe.\n",
        "\n",
        "O modelo não apresenta sinais claros de underfitting, pois a acurácia é boa e a **ROC-AUC** (0.88) mostra uma boa discriminação entre as classes.\n"
      ],
      "metadata": {
        "id": "bflocR8iBqw-"
      }
    },
    {
      "cell_type": "code",
      "execution_count": 28,
      "metadata": {
        "id": "ZTCLGFMJK0oU"
      },
      "outputs": [],
      "source": [
        "#deixei comentado porque estavam demorando bastante para rodar. Procurei usar esses metodos para apoio na seleção dos hiperparâmetros para os 3 modelos.\n",
        "\n",
        "#Resultado:\n",
        "#Melhores parâmetros para RandomForest: {'max_depth': 20, 'max_features': 'sqrt', 'min_samples_leaf': 2, 'min_samples_split': 2, 'n_estimators': 200}\n",
        "\n",
        "#from sklearn.ensemble import RandomForestClassifier\n",
        "#from sklearn.model_selection import GridSearchCV\n",
        "\n",
        "# Definir o modelo e a grade de hiperparâmetros\n",
        "#rf = RandomForestClassifier(random_state=42)\n",
        "#param_grid_rf = {\n",
        "#    'n_estimators': [100, 200, 300],\n",
        "#    'max_depth': [10, 20, None],\n",
        "#    'min_samples_split': [2, 5, 10],\n",
        "#    'min_samples_leaf': [1, 2, 4],\n",
        "#    'max_features': ['sqrt', 'log2', None]\n",
        "#}\n",
        "\n",
        "# GridSearchCV para Random Forest\n",
        "#grid_search_rf = GridSearchCV(estimator=rf, param_grid=param_grid_rf, cv=5, verbose=1, n_jobs=-1)\n",
        "#grid_search_rf.fit(X_train, y_train)\n",
        "\n",
        "# Melhor modelo Random Forest\n",
        "#best_rf = grid_search_rf.best_estimator_\n",
        "#print(\"Melhores parâmetros para RandomForest:\", grid_search_rf.best_params_)\n",
        "\n",
        "\n",
        "\n",
        "\n",
        "#import optuna\n",
        "#from sklearn.svm import SVC\n",
        "#from sklearn.model_selection import cross_val_score\n",
        "\n",
        "#def objective(trial):\n",
        " #   C = trial.suggest_loguniform('C', 0.1, 100)\n",
        "  #  kernel = trial.suggest_categorical('kernel', ['linear', 'rbf'])\n",
        "   # gamma = trial.suggest_categorical('gamma', ['scale', 'auto'])\n",
        "\n",
        "   # svc = SVC(C=C, kernel=kernel, gamma=gamma, probability=True, random_state=42)\n",
        "  #  scores = cross_val_score(svc, X_train, y_train, cv=3, scoring='accuracy')\n",
        "   # return scores.mean()\n",
        "\n",
        "#study = optuna.create_study(direction='maximize')\n",
        "#study.optimize(objective, n_trials=15)  # Menos iterações\n",
        "\n",
        "#print(\"Melhores parâmetros:\", study.best_params)\n",
        "\n",
        "\n",
        "\n",
        "\n",
        "\n",
        "#Resultado melhores parâmetros para XGBoost: {'learning_rate': 0.2, 'max_depth': 3, 'n_estimators': 100, 'subsample': 0.8}\n",
        "\n",
        "#from xgboost import XGBClassifier\n",
        "\n",
        "#from sklearn.model_selection import GridSearchCV\n",
        "\n",
        "# Codificar as classes\n",
        "#label_encoder = LabelEncoder()\n",
        "#y_train_encoded = label_encoder.fit_transform(y_train)\n",
        "\n",
        "# Definir o modelo e a grade de hiperparâmetros\n",
        "#xgb = XGBClassifier(eval_metric='mlogloss', use_label_encoder=False, random_state=42)\n",
        "#param_grid_xgb = {\n",
        "#    'n_estimators': [50, 100, 200],\n",
        "#    'max_depth': [3, 5, 7],\n",
        "#    'learning_rate': [0.01, 0.1, 0.2],\n",
        "#    'subsample': [0.8, 1.0]\n",
        "#}\n",
        "\n",
        "# GridSearchCV para XGBoost\n",
        "#grid_search_xgb = GridSearchCV(estimator=xgb, param_grid=param_grid_xgb, cv=5, verbose=1, n_jobs=-1)\n",
        "#grid_search_xgb.fit(X_train, y_train_encoded)\n",
        "\n",
        "# Melhor modelo XGBoost\n",
        "#best_xgb = grid_search_xgb.best_estimator_\n",
        "#print(\"Melhores parâmetros para XGBoost:\", grid_search_xgb.best_params_)"
      ]
    },
    {
      "cell_type": "markdown",
      "metadata": {
        "id": "9YaMabGp0usk"
      },
      "source": [
        "**Há algum método avançado ou mais complexo que possa ser avaliado?**\n",
        "\n",
        "Foram testados os métodos: Blending, SHAP e Meta-Learning no modelo para análise."
      ]
    },
    {
      "cell_type": "code",
      "execution_count": 16,
      "metadata": {
        "colab": {
          "base_uri": "https://localhost:8080/"
        },
        "id": "uibrq6N1d3Lx",
        "outputId": "11048fa3-d9a3-4dfa-e7a4-8e9db9781d28"
      },
      "outputs": [
        {
          "output_type": "stream",
          "name": "stdout",
          "text": [
            "<class 'str'>\n",
            "0     Dropout\n",
            "1    Graduate\n",
            "2    Graduate\n",
            "3    Graduate\n",
            "4     Dropout\n",
            "Name: Target, dtype: object\n"
          ]
        }
      ],
      "source": [
        "y_test.reset_index(drop=True, inplace=True)\n",
        "y_test.iloc[0]  # Acessando o primeiro elemento da Série\n",
        "print(type(y_test[0]))\n",
        "print(y_test.head())  # Verifique os primeiros valores após resetar o índice"
      ]
    },
    {
      "cell_type": "code",
      "execution_count": 17,
      "metadata": {
        "colab": {
          "base_uri": "https://localhost:8080/"
        },
        "id": "Z4E1c4S70wuU",
        "outputId": "d37f8afd-aa3a-4e48-8f48-c50ad1677e9f"
      },
      "outputs": [
        {
          "output_type": "stream",
          "name": "stdout",
          "text": [
            "Acurácia do Blending: 0.7786144578313253\n",
            "F1 Score do Blending: 0.710654458402419\n",
            "Previsões decodificadas: ['Dropout' 'Graduate' 'Graduate' 'Graduate' 'Dropout']\n"
          ]
        }
      ],
      "source": [
        "#2. Blending (Média de Probabilidades) - Aqui combinaremos as probabilidades dos três modelos individuais (RF, XGB, SVM).\n",
        "\n",
        "rf_proba = rf.predict_proba(X_test)\n",
        "xgb_proba = xgb.predict_proba(X_test)\n",
        "svm_proba = svm.predict_proba(X_test)\n",
        "\n",
        "# Média das probabilidades (Blending)\n",
        "blended_proba = (rf_proba + xgb_proba + svm_proba) / 3\n",
        "blended_pred = np.argmax(blended_proba, axis=1)\n",
        "\n",
        "# Avaliação do desempenho do Blending\n",
        "print(f\"Acurácia do Blending: {accuracy_score(y_test_encoded, blended_pred)}\")\n",
        "print(f'F1 Score do Blending: {f1_score(y_test_encoded, blended_pred, average=\"macro\")}')\n",
        "\n",
        "# Decodificando as previsões para os valores originais\n",
        "blended_pred_decoded = label_encoder.inverse_transform(blended_pred)\n",
        "print(f\"Previsões decodificadas: {blended_pred_decoded[:5]}\")"
      ]
    },
    {
      "cell_type": "code",
      "execution_count": 18,
      "metadata": {
        "colab": {
          "base_uri": "https://localhost:8080/",
          "height": 1000
        },
        "id": "LARkIWIv3OqP",
        "outputId": "de611800-63e5-4ca7-c4e0-385eefa3f500"
      },
      "outputs": [
        {
          "output_type": "display_data",
          "data": {
            "text/plain": [
              "<Figure size 1150x660 with 3 Axes>"
            ],
            "image/png": "[encoded data removed]"
          },
          "metadata": {}
        },
        {
          "output_type": "display_data",
          "data": {
            "text/plain": [
              "<Figure size 1150x660 with 3 Axes>"
            ],
            "image/png": "[encoded data removed]"
          },
          "metadata": {}
        }
      ],
      "source": [
        "#4. SHAP para Explicabilidade - Usaremos SHAP para entender o impacto das features no modelo de Stacking.\n",
        "# Explicabilidade para o Random Forest\n",
        "rf_model = stacking_clf.named_estimators_['rf']\n",
        "explainer_rf = shap.TreeExplainer(rf_model)\n",
        "shap_values_rf = explainer_rf.shap_values(X_test)\n",
        "\n",
        "shap.summary_plot(shap_values_rf, X_test)\n",
        "\n",
        "# Explicabilidade para o XGBoost\n",
        "xgb_model = stacking_clf.named_estimators_['xgb']\n",
        "explainer_xgb = shap.TreeExplainer(xgb_model)\n",
        "shap_values_xgb = explainer_xgb.shap_values(X_test)\n",
        "\n",
        "shap.summary_plot(shap_values_xgb, X_test)\n"
      ]
    },
    {
      "cell_type": "markdown",
      "metadata": {
        "id": "g2WI34CKC0wK"
      },
      "source": [
        "* Application order parece ser a variável mais relevante para o modelo, afetando de forma significativa tanto positiva quanto negativamente dependendo do caso.\n",
        "* Marital status tem um impacto mais neutro e provavelmente não é tão crucial para as previsões.\n",
        "* Application mode apresenta um impacto diversificado, mas ainda é relevante no contexto do modelo."
      ]
    },
    {
      "cell_type": "code",
      "execution_count": 19,
      "metadata": {
        "id": "NZSYd9vyDsyL",
        "colab": {
          "base_uri": "https://localhost:8080/"
        },
        "outputId": "70288423-1286-44ac-99c1-ef66f8495587"
      },
      "outputs": [
        {
          "output_type": "stream",
          "name": "stdout",
          "text": [
            "\n",
            "Relatório para o grupo jovem:\n",
            "              precision    recall  f1-score   support\n",
            "\n",
            "     Dropout       0.73      0.64      0.68       154\n",
            "    Enrolled       0.45      0.32      0.37       117\n",
            "    Graduate       0.81      0.92      0.86       387\n",
            "\n",
            "    accuracy                           0.75       658\n",
            "   macro avg       0.66      0.62      0.64       658\n",
            "weighted avg       0.73      0.75      0.73       658\n",
            "\n",
            "\n",
            "Relatório para o grupo adulto:\n",
            "              precision    recall  f1-score   support\n",
            "\n",
            "     Dropout       0.90      0.87      0.88        90\n",
            "    Enrolled       0.46      0.33      0.39        18\n",
            "    Graduate       0.65      0.81      0.72        32\n",
            "\n",
            "    accuracy                           0.79       140\n",
            "   macro avg       0.67      0.67      0.66       140\n",
            "weighted avg       0.78      0.79      0.78       140\n",
            "\n",
            "\n",
            "Relatório para o grupo senior:\n",
            "              precision    recall  f1-score   support\n",
            "\n",
            "     Dropout       0.91      0.93      0.92        46\n",
            "    Enrolled       1.00      0.08      0.15        12\n",
            "    Graduate       0.76      1.00      0.86        31\n",
            "\n",
            "    accuracy                           0.84        89\n",
            "   macro avg       0.89      0.67      0.65        89\n",
            "weighted avg       0.87      0.84      0.80        89\n",
            "\n"
          ]
        }
      ],
      "source": [
        "#Meta-Learning - Meta-Learning envolve treinar diferentes modelos em subsets dos dados, baseados em características específicas.\n",
        "# Dividindo os dados por grupos de idade\n",
        "groups = {\n",
        "    'jovem': df[df['Age at enrollment'] < 25],\n",
        "    'adulto': df[(df['Age at enrollment'] >= 25) & (df['Age at enrollment'] < 35)],\n",
        "    'senior': df[df['Age at enrollment'] >= 35]\n",
        "}\n",
        "\n",
        "models = {}\n",
        "reports = {}\n",
        "\n",
        "# Treinando um modelo para cada grupo\n",
        "for group, data in groups.items():\n",
        "    X_group = data.drop(columns=['Target', 'Age at enrollment'])\n",
        "    y_group = data['Target']\n",
        "\n",
        "    # Divisão treino-teste para o grupo\n",
        "    X_train_g, X_test_g, y_train_g, y_test_g = train_test_split(X_group, y_group, test_size=0.2, random_state=42)\n",
        "\n",
        "    # Treinando modelo\n",
        "    model = RandomForestClassifier(n_estimators=100, random_state=42)\n",
        "    model.fit(X_train_g, y_train_g)\n",
        "    models[group] = model\n",
        "\n",
        "    # Previsões e relatório\n",
        "    y_pred_g = model.predict(X_test_g)\n",
        "    reports[group] = classification_report(y_test_g, y_pred_g)\n",
        "\n",
        "    print(f\"\\nRelatório para o grupo {group}:\")\n",
        "    print(reports[group])\n",
        "\n",
        "# Para realizar previsões em novos dados:\n",
        "def meta_predict(data):\n",
        "    age = data['Age at enrollment']\n",
        "    if age < 25:\n",
        "        model = models['jovem']\n",
        "    elif age < 35:\n",
        "        model = models['adulto']\n",
        "    else:\n",
        "        model = models['senior']\n",
        "\n",
        "    X_data = data.drop(columns=['Target', 'Age at enrollment'])\n",
        "    return model.predict(X_data)"
      ]
    },
    {
      "cell_type": "markdown",
      "source": [
        "A análise dos resultados do meta-learning dividido por faixa etária revela as seguintes observações:\n",
        "\n",
        "  * Jovem: O modelo teve bom desempenho na classe \"Graduate\" (f1-score de 0.86), mas apresentou dificuldades com a classe \"Enrolled\" (f1-score de 0.37). A acurácia global é razoável (0.75), mas o underfitting na classe \"Enrolled\" sugere que o modelo não consegue bem distinguir entre os alunos matriculados.\n",
        "\n",
        "  * Adulto: A performance na classe \"Dropout\" foi excelente (f1-score de 0.88), mas a classe \"Enrolled\" também apresentou baixo desempenho (f1-score de 0.39), semelhante ao grupo jovem. No geral, o modelo teve boa acurácia (0.79), mas o desbalanceamento de classes pode ter prejudicado a modelagem.\n",
        "\n",
        "  * Sênior: O modelo teve uma excelente performance na classe \"Dropout\" (f1-score de 0.92) e \"Graduate\" (f1-score de 0.86), mas a classe \"Enrolled\" teve um desempenho muito baixo (f1-score de 0.15). A acurácia global foi alta (0.84), mas novamente a classe \"Enrolled\" teve dificuldades devido ao desbalanceamento."
      ],
      "metadata": {
        "id": "Xs-3pDPUCvRZ"
      }
    },
    {
      "cell_type": "markdown",
      "metadata": {
        "id": "EIrGmrYnEktJ"
      },
      "source": [
        "##Avaliação de Resultados:"
      ]
    },
    {
      "cell_type": "markdown",
      "source": [
        "Métricas escolhidas para análise de desempenho do modelo:\n",
        "\n",
        "* Matriz de Confusão: Permite visualizar como o modelo está classificando as instâncias, identificando erros específicos de cada classe, como falsos positivos e falsos negativos.\n",
        "\n",
        "* Relatório de Classificação: Fornece métricas detalhadas como precisão, recall e f1-score, importantes para avaliar o desempenho em cada classe, especialmente quando as classes são desbalanceadas.\n",
        "\n",
        "* ROC-AUC: Mede a capacidade do modelo em distinguir entre as classes, sendo especialmente útil em problemas com desbalanceamento de classes. O valor de AUC (Área sob a Curva) reflete a habilidade do modelo em classificar corretamente as classes positivas versus as negativas.\n",
        "\n",
        "* Acurácia: Indica a taxa geral de previsões corretas. Embora seja uma métrica simples, pode ser útil como um ponto de partida, mas deve ser complementada com as outras métricas em problemas desbalanceados."
      ],
      "metadata": {
        "id": "IQoWDoogDpOJ"
      }
    },
    {
      "cell_type": "code",
      "execution_count": 20,
      "metadata": {
        "id": "sd7w9RkJExCJ",
        "colab": {
          "base_uri": "https://localhost:8080/"
        },
        "outputId": "a6b3fa68-4a3c-4c95-ab90-30962d87bfc5"
      },
      "outputs": [
        {
          "output_type": "stream",
          "name": "stdout",
          "text": [
            "Matriz de Confusão:\n",
            "[[349  37  55]\n",
            " [ 60  98  87]\n",
            " [ 21  33 588]]\n"
          ]
        }
      ],
      "source": [
        "# Criando a matriz de confusão\n",
        "print(\"Matriz de Confusão:\")\n",
        "print(confusion_matrix(y_test_encoded, y_pred))"
      ]
    },
    {
      "cell_type": "markdown",
      "source": [
        "O modelo está tendo um bom desempenho em classificar corretamente a classe 2 (com 588 verdadeiros positivos), mas há confusão nas classes 0 e 1, com falsos negativos e positivos entre elas.\n",
        "\n",
        "A classe 1 tem um desempenho relativamente pior, com uma taxa de acerto de apenas 98 de 245, indicando que o modelo pode ter dificuldades em classificar essa classe com precisão."
      ],
      "metadata": {
        "id": "H66ImWyQn1yZ"
      }
    },
    {
      "cell_type": "code",
      "execution_count": 21,
      "metadata": {
        "id": "8sFzIHRoEzQT",
        "colab": {
          "base_uri": "https://localhost:8080/"
        },
        "outputId": "d15bea7a-b1d0-40cf-eeae-760c11b09533"
      },
      "outputs": [
        {
          "output_type": "stream",
          "name": "stdout",
          "text": [
            "Relatório de Classificação:\n",
            "              precision    recall  f1-score   support\n",
            "\n",
            "           0       0.81      0.79      0.80       441\n",
            "           1       0.58      0.40      0.47       245\n",
            "           2       0.81      0.92      0.86       642\n",
            "\n",
            "    accuracy                           0.78      1328\n",
            "   macro avg       0.73      0.70      0.71      1328\n",
            "weighted avg       0.77      0.78      0.77      1328\n",
            "\n"
          ]
        }
      ],
      "source": [
        "from sklearn.metrics import classification_report\n",
        "print(\"Relatório de Classificação:\")\n",
        "print(classification_report(y_test_encoded, y_pred))"
      ]
    },
    {
      "cell_type": "markdown",
      "source": [
        "  * Acurácia: 0.78, o que significa que o modelo acertou 78% das previsões.\n",
        "  * Macro avg: A média das métricas para as classes, sem considerar o número de exemplos, mostra que o modelo tem um desempenho razoável, com uma precisão média de 0.73 e recall médio de 0.70.\n",
        "  * Weighted avg: A média ponderada, considerando o número de exemplos de cada classe, mostra um desempenho geral de 0.77 para precisão, 0.78 para recall e 0.77 para F1, refletindo uma boa performance quando ponderado pela distribuição das classes."
      ],
      "metadata": {
        "id": "uQE_nKDAoEIq"
      }
    },
    {
      "cell_type": "code",
      "execution_count": 22,
      "metadata": {
        "id": "hbnVyjpnE6J8",
        "colab": {
          "base_uri": "https://localhost:8080/"
        },
        "outputId": "c7714f7b-8770-483c-ce61-1295d58d5f5d"
      },
      "outputs": [
        {
          "output_type": "stream",
          "name": "stdout",
          "text": [
            "ROC-AUC (multiclasse, OVR): 0.8835274637656173\n"
          ]
        }
      ],
      "source": [
        "from sklearn.metrics import roc_auc_score\n",
        "roc_auc = roc_auc_score(y_test, y_proba, multi_class='ovr')\n",
        "print(f\"ROC-AUC (multiclasse, OVR): {roc_auc}\")"
      ]
    },
    {
      "cell_type": "markdown",
      "source": [
        "O valor de **ROC-AUC (multiclasse, OVR)** de **0.8835** indica que o modelo tem uma boa capacidade de discriminação entre as classes. Em uma escala de 0 a 1, um valor próximo de 1 sugere que o modelo está conseguindo distinguir bem entre as classes. Esse valor de 0.88 é considerado um bom desempenho, indicando que o modelo tem uma boa taxa de acertos ao classificar corretamente as instâncias de cada classe em relação às demais."
      ],
      "metadata": {
        "id": "Wxm510VUoFgk"
      }
    },
    {
      "cell_type": "code",
      "execution_count": 23,
      "metadata": {
        "id": "i6kN7d1cE8X6",
        "colab": {
          "base_uri": "https://localhost:8080/"
        },
        "outputId": "cb80f083-87d8-4a28-ec40-04ea7dc6cdcf"
      },
      "outputs": [
        {
          "output_type": "stream",
          "name": "stdout",
          "text": [
            "Acurácia: 0.7793674698795181\n"
          ]
        }
      ],
      "source": [
        "from sklearn.metrics import accuracy_score\n",
        "print(f\"Acurácia: {accuracy_score(y_test_encoded, y_pred)}\")"
      ]
    },
    {
      "cell_type": "markdown",
      "source": [
        "A **acurácia de 0.7794** significa que o modelo acertou aproximadamente 77,94% das previsões no conjunto de teste. Isso sugere um desempenho relativamente bom, mas é importante considerar que a acurácia por si só pode ser insuficiente em casos de classes desbalanceadas. A acurácia mede a proporção total de previsões corretas, sem levar em conta a distribuição das classes ou a gravidade dos erros."
      ],
      "metadata": {
        "id": "fv5tNcKAoSKh"
      }
    },
    {
      "cell_type": "markdown",
      "source": [
        "**Os resultados fazem sentido?**\n",
        "\n",
        "A acurácia de cerca de 78% indica um bom desempenho do modelo, especialmente considerando a complexidade do problema. No entanto, a diferença de desempenho entre as classes (como visto no relatório de classificação e na matriz de confusão) sugere que o modelo pode estar com dificuldades para prever algumas classes menos representadas, como a classe \"Enrolled\". A ROC-AUC alta (0.88) também indica que o modelo está discriminando bem entre as classes, apesar de algumas variações nas métricas de precisão e recall."
      ],
      "metadata": {
        "id": "teKFhW9eoJpp"
      }
    },
    {
      "cell_type": "code",
      "source": [
        "# Acurácia no conjunto de treino\n",
        "rf_train_pred = rf.predict(X_train)\n",
        "xgb_train_pred = xgb.predict(X_train)\n",
        "svm_train_pred = svm.predict(X_train)\n",
        "\n",
        "# Acurácia no conjunto de teste\n",
        "rf_test_pred = rf.predict(X_test)\n",
        "xgb_test_pred = xgb.predict(X_test)\n",
        "svm_test_pred = svm.predict(X_test)\n",
        "\n",
        "# Comparando Acurácias\n",
        "print(\"=== Random Forest ===\")\n",
        "print(f\"Acurácia no Treinamento: {accuracy_score(y_train_encoded, rf_train_pred)}\")\n",
        "print(f\"Acurácia no Teste: {accuracy_score(y_test_encoded, rf_test_pred)}\\n\")\n",
        "\n",
        "print(\"=== XGBoost ===\")\n",
        "print(f\"Acurácia no Treinamento: {accuracy_score(y_train_encoded, xgb_train_pred)}\")\n",
        "print(f\"Acurácia no Teste: {accuracy_score(y_test_encoded, xgb_test_pred)}\\n\")\n",
        "\n",
        "print(\"=== SVM ===\")\n",
        "print(f\"Acurácia no Treinamento: {accuracy_score(y_train_encoded, svm_train_pred)}\")\n",
        "print(f\"Acurácia no Teste: {accuracy_score(y_test_encoded, svm_test_pred)}\\n\")\n"
      ],
      "metadata": {
        "colab": {
          "base_uri": "https://localhost:8080/"
        },
        "id": "jRYUsuL0pDUz",
        "outputId": "7fb60487-0a11-4f61-b29a-8a2c86ee6456"
      },
      "execution_count": 24,
      "outputs": [
        {
          "output_type": "stream",
          "name": "stdout",
          "text": [
            "=== Random Forest ===\n",
            "Acurácia no Treinamento: 0.8506271379703535\n",
            "Acurácia no Teste: 0.7492469879518072\n",
            "\n",
            "=== XGBoost ===\n",
            "Acurácia no Treinamento: 0.9988597491448119\n",
            "Acurácia no Teste: 0.7748493975903614\n",
            "\n",
            "=== SVM ===\n",
            "Acurácia no Treinamento: 0.7833523375142531\n",
            "Acurácia no Teste: 0.7635542168674698\n",
            "\n"
          ]
        }
      ]
    },
    {
      "cell_type": "code",
      "source": [
        "# Validação Cruzada para Random Forest\n",
        "rf_cv_scores = cross_val_score(rf, X_train, y_train_encoded, cv=5, scoring='accuracy')\n",
        "print(f\"Validação Cruzada - Random Forest: {rf_cv_scores}\")\n",
        "print(f\"Média da Acurácia - Random Forest: {rf_cv_scores.mean()}\\n\")\n",
        "\n",
        "# Validação Cruzada para XGBoost\n",
        "xgb_cv_scores = cross_val_score(xgb, X_train, y_train_encoded, cv=5, scoring='accuracy')\n",
        "print(f\"Validação Cruzada - XGBoost: {xgb_cv_scores}\")\n",
        "print(f\"Média da Acurácia - XGBoost: {xgb_cv_scores.mean()}\\n\")\n",
        "\n",
        "# Validação Cruzada para SVM\n",
        "svm_cv_scores = cross_val_score(svm, X_train, y_train_encoded, cv=5, scoring='accuracy')\n",
        "print(f\"Validação Cruzada - SVM: {svm_cv_scores}\")\n",
        "print(f\"Média da Acurácia - SVM: {svm_cv_scores.mean()}\\n\")"
      ],
      "metadata": {
        "colab": {
          "base_uri": "https://localhost:8080/"
        },
        "id": "GkFoskqwpv2D",
        "outputId": "47329bc5-b732-4cd7-873c-73b71a76ec3b"
      },
      "execution_count": 25,
      "outputs": [
        {
          "output_type": "stream",
          "name": "stdout",
          "text": [
            "Validação Cruzada - Random Forest: [0.73434535 0.77376426 0.75665399 0.73193916 0.76425856]\n",
            "Média da Acurácia - Random Forest: 0.7521922641250784\n",
            "\n",
            "Validação Cruzada - XGBoost: [0.77419355 0.76045627 0.7661597  0.75665399 0.7851711 ]\n",
            "Média da Acurácia - XGBoost: 0.7685269226051761\n",
            "\n",
            "Validação Cruzada - SVM: [0.77609108 0.75285171 0.77946768 0.75475285 0.77756654]\n",
            "Média da Acurácia - SVM: 0.7681459729727779\n",
            "\n"
          ]
        }
      ]
    },
    {
      "cell_type": "markdown",
      "source": [
        "\n",
        "Os **resultados **indicam que houve um certo grau de **overfitting**, especialmente no **XGBoost**, que apresentou uma acurácia muito alta no treinamento (99.89%) e uma boa performance no teste (77.48%). Isso sugere que o modelo está muito ajustado aos dados de treinamento e pode não generalizar bem para novos dados. O **Random Forest** também apresenta uma diferença considerável entre a acurácia no treinamento (85.06%) e no teste (74.92%), o que sugere um leve overfitting.\n",
        "\n",
        "O **SVM**, por outro lado, apresentou uma diferença mais equilibrada entre as acurácias de treinamento (78.34%) e teste (76.36%), indicando uma melhor capacidade de generalização.\n",
        "\n",
        "Em termos de **validação cruzada**, o **Random Forest** teve uma média de acurácia de 75.22%, o **XGBoost** teve 76.85% e o **SVM** teve 76.81%. Isso indica que, em termos de performance geral, o **XGBoost** foi ligeiramente superior, seguido de perto pelo **SVM**.\n",
        "\n",
        "**Melhor solução**: O **XGBoost** foi o modelo que apresentou a melhor média de acurácia na validação cruzada e teve um bom desempenho geral, embora o **Random Forest** também seja uma boa alternativa. No entanto, o **XGBoost** pode ser ajustado para reduzir o overfitting. Se a preocupação for com a generalização e a estabilidade, o **SVM** também seria uma boa escolha."
      ],
      "metadata": {
        "id": "j9ehkcc9qe6n"
      }
    },
    {
      "cell_type": "markdown",
      "source": [
        "**Conclusão:**\n",
        "\n",
        "No final, podemos concluir que:\n",
        "\n",
        "1. **Overfitting** foi observado, especialmente nos modelos **Random Forest** e **XGBoost**, com altas acurácias de treinamento e diferenças significativas em relação ao desempenho nos dados de teste. Isso sugere que esses modelos podem estar memorizando os dados de treinamento em vez de aprender padrões generalizáveis.\n",
        "\n",
        "2. **SVM** teve o desempenho mais equilibrado entre os dados de treinamento e teste, com menor diferença, sugerindo uma boa capacidade de generalização.\n",
        "\n",
        "3. **XGBoost** teve o melhor desempenho em termos de validação cruzada, seguido de perto pelo **SVM**, o que o torna uma boa escolha, embora possa ser necessário ajustar seus hiperparâmetros para mitigar o overfitting.\n",
        "\n",
        "4. A melhor solução depende do objetivo: se a ênfase for na **precisão geral** (validação cruzada), o **XGBoost** pode ser a escolha, mas se a ênfase for na **generalização** e **estabilidade**, o **SVM** pode ser a melhor opção.\n",
        "\n",
        "Portanto, podemos considerar futuros ajustes nos hiperparâmetros para reduzir o overfitting nos modelos de árvore (Random Forest e XGBoost) e, se necessário, testar o **SVM** como uma alternativa robusta.\n"
      ],
      "metadata": {
        "id": "3SnkqHbmwA7K"
      }
    },
    {
      "cell_type": "markdown",
      "metadata": {
        "id": "xBhIoUA3Ubm2"
      },
      "source": [
        "---------------------------------------------------------"
      ]
    }
  ],
  "metadata": {
    "colab": {
      "collapsed_sections": [
        "Qi_-En58ctTx",
        "EIrGmrYnEktJ"
      ],
      "provenance": [],
      "include_colab_link": true
    },
    "kernelspec": {
      "display_name": "Python 3",
      "name": "python3"
    }
  },
  "nbformat": 4,
  "nbformat_minor": 0
}